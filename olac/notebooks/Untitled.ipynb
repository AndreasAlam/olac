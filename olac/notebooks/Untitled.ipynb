{
 "cells": [
  {
   "cell_type": "markdown",
   "metadata": {},
   "source": [
    "# Dynamicity metrics - LAC\n",
    "Define a set of metric that captures the level of Dynamicity\n",
    "\n",
    "## Goal\n",
    "Define computationally effective \n",
    "## Shorlist\n",
    "- first, second moment\n",
    "- volatility\n",
    "- distribution fit:\n",
    "    - KL divergence\n",
    "    - KS test\n",
    "- Linear regression\n",
    "    - $R^2$\n",
    "    - Mean Square Error\n",
    "    - ...\n",
    "\n",
    "## Data\n",
    "https://datamarket.com/data/set/237v/daily-foreign-exchange-rates-31-december-1979-31-december-1998#!ds=237v!2jx6&display=line"
   ]
  },
  {
   "cell_type": "code",
   "execution_count": null,
   "metadata": {},
   "outputs": [],
   "source": []
  }
 ],
 "metadata": {
  "kernelspec": {
   "display_name": "Python 3",
   "language": "python",
   "name": "python3"
  },
  "language_info": {
   "codemirror_mode": {
    "name": "ipython",
    "version": 3
   },
   "file_extension": ".py",
   "mimetype": "text/x-python",
   "name": "python",
   "nbconvert_exporter": "python",
   "pygments_lexer": "ipython3",
   "version": "3.6.5"
  }
 },
 "nbformat": 4,
 "nbformat_minor": 2
}
