{
 "cells": [
  {
   "cell_type": "code",
   "execution_count": null,
   "metadata": {},
   "outputs": [],
   "source": [
    "import pandas as pd\n",
    "import numpy as np\n",
    "import matplotlib.pyplot as plt\n",
    "import time\n",
    "from IPython import display\n",
    "import pylab as pl\n",
    "\n",
    "import seaborn as sns\n",
    "import altair as alt\n",
    "from vega_datasets import data\n",
    "\n",
    "alt.renderers.enable('notebook')\n",
    "%matplotlib inline\n",
    "plt.rcParams['figure.figsize'] = (20, 8)\n",
    "sns.set_style=('white')\n",
    "sns.despine()"
   ]
  },
  {
   "cell_type": "code",
   "execution_count": null,
   "metadata": {},
   "outputs": [],
   "source": [
    "start = [100]\n",
    "start2 = [100]\n",
    "N = [0]\n",
    "N2= [0]\n",
    "\n",
    "rs = np.random.RandomState(n)\n",
    "mean = [np.random.random(1)[0], np.random.random(1)[0]]\n",
    "cov = [(1, 0), (0, 2)]\n",
    "x, y = rs.multivariate_normal(mean, cov, 100).T\n",
    "x1, y1 = rs.multivariate_normal([80,70], cov, 100).T\n",
    "\n",
    "for n in range(20):\n",
    "\n",
    "    plt.subplot(121)\n",
    "    sns.despine()\n",
    "    start.append(start[n]-np.random.random(1)[0]*10)\n",
    "    N.append(n)\n",
    "    plt.plot(N,start,'r-')\n",
    "    plt.xlim((0,100))\n",
    "    plt.ylim((0,100))\n",
    "    plt.title('Performance '+str(np.round(start[n],2)))\n",
    "    \n",
    "    plt.subplot(122)\n",
    "    sns.despine()\n",
    "    x += np.random.random(size=x.shape)*2\n",
    "    y += np.random.random(size=y.shape)*2\n",
    "    \n",
    "    x1 -= np.random.random(size=x1.shape)*2\n",
    "    y1 -= np.random.random(size=y1.shape)*2\n",
    "    plt.plot(x, y, '.')\n",
    "    plt.plot(x1, y1, '.')\n",
    "    plt.xlim(0,100)\n",
    "    plt.ylim(0,100)\n",
    "\n",
    "    display.clear_output(wait=True)\n",
    "    display.display(plt.gcf())\n",
    "    time.sleep(.1)\n",
    "    plt.close()\n"
   ]
  },
  {
   "cell_type": "code",
   "execution_count": null,
   "metadata": {},
   "outputs": [],
   "source": [
    "def random_dots(size=1000):\n",
    "    rs = np.random.RandomState(n)\n",
    "    mean = [np.random.random(1)[0], np.random.random(1)[0]]\n",
    "    cov = [(1, 0), (0, 2)]\n",
    "    x, y = rs.multivariate_normal(mean, cov, 100).T\n",
    "    x1, y1 = rs.multivariate_normal([80,70], cov, 100).T\n",
    "    \n",
    "    "
   ]
  },
  {
   "cell_type": "code",
   "execution_count": null,
   "metadata": {},
   "outputs": [],
   "source": [
    "rs = np.random.RandomState(n)\n",
    "mean = [np.random.random(1)[0], np.random.random(1)[0]]\n",
    "cov = [(1, 0), (0, 2)]\n",
    "x, y = rs.multivariate_normal(mean, cov, 100).T\n",
    "x1, y1 = rs.multivariate_normal([80,70], cov, 100).T\n",
    "\n",
    "for n in range(100):\n",
    "    x += np.random.random(size=x.shape)*2\n",
    "    y += np.random.random(size=y.shape)*2\n",
    "    \n",
    "    x1 -= np.random.random(size=x1.shape)*2\n",
    "    y1 -= np.random.random(size=y1.shape)*2\n",
    "    plt.plot(x, y, '.')\n",
    "    plt.plot(x1, y1, '.')\n",
    "    plt.xlim(0,100)\n",
    "    plt.ylim(0,100)\n",
    "    plt.xlim(0,100)\n",
    "    plt.ylim(0,100)\n",
    "    sns.despine()\n",
    "    display.clear_output(wait=True)\n",
    "    display.display(pl.gcf())\n",
    "#     if n % 2:\n",
    "    plt.close()\n",
    "    time.sleep(.01)"
   ]
  },
  {
   "cell_type": "code",
   "execution_count": 4,
   "metadata": {},
   "outputs": [
    {
     "data": {
      "image/png": "[encoded data removed]",
      "text/plain": [
       "<matplotlib.figure.Figure at 0x116c13860>"
      ]
     },
     "metadata": {},
     "output_type": "display_data"
    }
   ],
   "source": [
    "dataset = data.iris()\n",
    "x = dataset['petalLength'].copy()\n",
    "y = dataset['species'].copy()\n",
    "\n",
    "for n in range(50):\n",
    "    np.random.shuffle(y)\n",
    "#     data['species/'] *= np.random.random(1)[0]\n",
    "    sns.violinplot(x=y, y=x, order=np.unique(y))\n",
    "    display.clear_output(wait=True)\n",
    "    display.display(pl.gcf())\n",
    "    plt.close()"
   ]
  },
  {
   "cell_type": "code",
   "execution_count": null,
   "metadata": {},
   "outputs": [],
   "source": []
  }
 ],
 "metadata": {
  "kernelspec": {
   "display_name": "Python 3",
   "language": "python",
   "name": "python3"
  },
  "language_info": {
   "codemirror_mode": {
    "name": "ipython",
    "version": 3
   },
   "file_extension": ".py",
   "mimetype": "text/x-python",
   "name": "python",
   "nbconvert_exporter": "python",
   "pygments_lexer": "ipython3",
   "version": "3.6.1"
  }
 },
 "nbformat": 4,
 "nbformat_minor": 2
}
