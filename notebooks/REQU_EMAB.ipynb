{
 "cells": [
  {
   "cell_type": "code",
   "execution_count": 2,
   "metadata": {},
   "outputs": [],
   "source": [
    "import numpy as np\n",
    "import pandas as pd"
   ]
  },
  {
   "cell_type": "code",
   "execution_count": null,
   "metadata": {},
   "outputs": [],
   "source": [
    "class EpsilonGreedy(object):\n",
    "    def __init__(self,n_arms,epsilon_decay=50):\n",
    "        self.counts = [0] * n  # example: number of views\n",
    "        self.values = [0.] * n # example: number of clicks / views\n",
    "        self.decay = epsilon_decay\n",
    "        self.n = n_arms\n",
    "\n",
    "    def choose_arm(self):\n",
    "        \"\"\"Choose an arm for testing\"\"\"\n",
    "        epsilon = self.get_epsilon()\n",
    "        if np.random.random() > epsilon:\n",
    "            # Exploit (use best arm)\n",
    "            return np.argmax(self.values)\n",
    "        else:\n",
    "            # Explore (test all arms)\n",
    "            return np.random.randint(self.n)\n",
    "\n",
    "    def update(self,arm,reward):\n",
    "        \"\"\"Update an arm with some reward value\"\"\" # Example: click = 1; no click = 0\n",
    "        self.counts[arm] = self.counts[arm] + 1\n",
    "        n = self.counts[arm]\n",
    "        value = self.values[arm]\n",
    "        # Running product\n",
    "        new_value = ((n - 1) / float(n)) * value + (1 / float(n)) * reward\n",
    "        self.values[arm] = new_value\n",
    "\n",
    "    def get_epsilon(self):\n",
    "        \"\"\"Produce epsilon\"\"\"\n",
    "        total = np.sum(arm_counts)\n",
    "        return float(self.decay) / (total + float(self.decay))\n",
    "    \n",
    "    def _theta_hat(self, cluster):\n",
    "        alpha = self.clusters[cluster]['alpha']\n",
    "        beta = self.clusters[cluster]['beta']\n",
    "        \n",
    "        self.clusters[cluster]['theta'] = alpha / (alpha + beta)\n",
    "        \n",
    "        \n",
    "        \n",
    "        estimates_of_theta = []\n",
    "error_of_mean = []\n",
    "entropy_store = []\n",
    "var = []\n",
    "varentropy = []\n",
    "for s in sample:\n",
    "    p = alpha / (alpha + beta)\n",
    "    estimates_of_theta.append(p)\n",
    "    error_of_mean.append(estimates_of_theta[-1] - sample_mean)\n",
    "    entropy_store.append(bernoulli.entropy(p))\n",
    "    var.append(beta_var(alpha, beta))\n",
    "    if s == 1:\n",
    "        frauds += 1\n",
    "    n += 1\n",
    "    alpha = 1 + frauds\n",
    "    beta = 1 + n - frauds"
   ]
  },
  {
   "cell_type": "code",
   "execution_count": null,
   "metadata": {},
   "outputs": [],
   "source": []
  },
  {
   "cell_type": "code",
   "execution_count": null,
   "metadata": {},
   "outputs": [],
   "source": [
    "class LaC(object):\n",
    "    def __init__(self, windower, clusterer, strategy=eMab, k_adwin_kwargs={}, clusterer_kwargs={}, strategy_kwargs={}):\n",
    "        self.k_adwin = kAdwin()\n",
    "        self.clusterer = clustere\n",
    "        \n",
    "        self.store = {'ind': [], 'cluster': [], 'label': [], 'fraud': []}\n",
    "        self.cluster_template = {'alpha': 0.5, 'beta': 0.5, 'theta': 0.5, 'entropy': 1}\n",
    "        # dict[int: {'alpha': 0.5}]\n",
    "        self.clusters = np.ones((3, ))\n",
    "    \n",
    "    def _init_cluster_array(k):\n",
    "        \"\"\"\n",
    "        \n",
    "        |   0   |   1  |   2   |    3    |\n",
    "        ----------------------------------\n",
    "        | alpha | beta | theta | entropy |\n",
    "        \n",
    "        \"\"\"\n",
    "        self.clusters = np.empty((k, 4))\n",
    "        self.clusters[:, :3] = 0.5\n",
    "        self.clusters[:, 3] = 1\n",
    "    \n",
    "    def _cluster_entropy(theta):\n",
    "        return (theta - 1) * np.log2(1 - theta) - (theta * np.log2(theta))\n",
    "    \n",
    "    def create_clusters():\n",
    "        pass\n",
    "    \n",
    "    def update_clusters():\n",
    "        pass"
   ]
  },
  {
   "cell_type": "code",
   "execution_count": null,
   "metadata": {},
   "outputs": [],
   "source": [
    "alpha / (alpha + beta)"
   ]
  },
  {
   "cell_type": "code",
   "execution_count": 4,
   "metadata": {},
   "outputs": [
    {
     "data": {
      "text/plain": [
       "array([[1., 1.],\n",
       "       [1., 1.],\n",
       "       [1., 1.],\n",
       "       [1., 1.],\n",
       "       [1., 1.]])"
      ]
     },
     "execution_count": 4,
     "metadata": {},
     "output_type": "execute_result"
    }
   ],
   "source": [
    "np.ones((5, 3))[:, :2]"
   ]
  },
  {
   "cell_type": "code",
   "execution_count": null,
   "metadata": {},
   "outputs": [],
   "source": []
  }
 ],
 "metadata": {
  "kernelspec": {
   "display_name": "Python 3",
   "language": "python",
   "name": "python3"
  },
  "language_info": {
   "codemirror_mode": {
    "name": "ipython",
    "version": 3
   },
   "file_extension": ".py",
   "mimetype": "text/x-python",
   "name": "python",
   "nbconvert_exporter": "python",
   "pygments_lexer": "ipython3",
   "version": "3.6.5"
  }
 },
 "nbformat": 4,
 "nbformat_minor": 2
}
