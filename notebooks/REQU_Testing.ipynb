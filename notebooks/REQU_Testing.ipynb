{
 "cells": [
  {
   "cell_type": "code",
   "execution_count": 1,
   "metadata": {},
   "outputs": [],
   "source": [
    "import numpy as np\n",
    "import pandas as pd\n",
    "import seaborn as sns\n",
    "import matplotlib.pyplot as plt\n",
    "%matplotlib inline\n",
    "from mpl_toolkits.mplot3d import Axes3D\n",
    "import olac.maths as mf"
   ]
  },
  {
   "cell_type": "code",
   "execution_count": 2,
   "metadata": {},
   "outputs": [],
   "source": [
    "%load_ext autoreload\n",
    "%autoreload 2"
   ]
  },
  {
   "cell_type": "code",
   "execution_count": 3,
   "metadata": {},
   "outputs": [],
   "source": [
    "plt.style.use('fivethirtyeight')"
   ]
  },
  {
   "cell_type": "code",
   "execution_count": 4,
   "metadata": {},
   "outputs": [],
   "source": [
    "from __future__ import division, print_function\n",
    "import numpy as np\n",
    "\n",
    "__author__ = 'Marcos Duarte, https://github.com/demotu/BMC'\n",
    "__version__ = \"1.0.4\"\n",
    "__license__ = \"MIT\"\n",
    "\n",
    "\n",
    "def detect_cusum(x, threshold=2, drift=0):\n",
    "    \"\"\"Cumulative sum algorithm (CUSUM) to detect abrupt changes in data.\n",
    "\n",
    "    Parameters\n",
    "    ----------\n",
    "    x : 1D array_like\n",
    "        data.\n",
    "    threshold : positive number, optional (default = 1)\n",
    "        amplitude threshold for the change in the data.\n",
    "    drift : positive number, optional (default = 0)\n",
    "        drift term that prevents any change in the absence of change.\n",
    "\n",
    "    Returns\n",
    "    -------\n",
    "    ta : 1D array_like [indi, indf], int\n",
    "        alarm time (index of when the change was detected).\n",
    "    tai : 1D array_like, int\n",
    "        index of when the change started.\n",
    "\n",
    "    Notes\n",
    "    -----\n",
    "    Tuning of the CUSUM algorithm according to Gustafsson (2000)[1]_:\n",
    "    Start with a very large `threshold`.\n",
    "    Choose `drift` to one half of the expected change, or adjust `drift` such\n",
    "    that `g` = 0 more than 50% of the time.\n",
    "    Then set the `threshold` so the required number of false alarms (this can\n",
    "    be done automatically) or delay for detection is obtained.\n",
    "    If faster detection is sought, try to decrease `drift`.\n",
    "    If fewer false alarms are wanted, try to increase `drift`.\n",
    "    If there is a subset of the change times that does not make sense,\n",
    "    try to increase `drift`.\n",
    "\n",
    "    Note that by default repeated sequential changes, i.e., changes that have\n",
    "    the same beginning (`tai`) are not deleted because the changes were\n",
    "    detected by the alarm (`ta`) at different instants. This is how the\n",
    "    classical CUSUM algorithm operates.\n",
    "\n",
    "    If you want to delete the repeated sequential changes and keep only the\n",
    "    beginning of the first sequential change, set the parameter `ending` to\n",
    "    True. In this case, the index of the ending of the change (`taf`) and the\n",
    "    amplitude of the change (or of the total amplitude for a repeated\n",
    "    sequential change) are calculated and only the first change of the repeated\n",
    "    sequential changes is kept. In this case, it is likely that `ta`, `tai`,\n",
    "    and `taf` will have less values than when `ending` was set to False.\n",
    "\n",
    "    See this IPython Notebook [2]_.\n",
    "\n",
    "    References\n",
    "    ----------\n",
    "    .. [1] Gustafsson (2000) Adaptive Filtering and Change Detection.\n",
    "    .. [2] hhttp://nbviewer.ipython.org/github/demotu/BMC/blob/master/notebooks/DetectCUSUM.ipynb\n",
    "\n",
    "    Examples\n",
    "    --------\n",
    "    >>> from detect_cusum import detect_cusum\n",
    "    >>> x = np.random.randn(300)/5\n",
    "    >>> x[100:200] += np.arange(0, 4, 4/100)\n",
    "    >>> ta, tai, taf, amp = detect_cusum(x, 2, .02, True, True)\n",
    "\n",
    "    >>> x = np.random.randn(300)\n",
    "    >>> x[100:200] += 6\n",
    "    >>> detect_cusum(x, 4, 1.5, True, True)\n",
    "\n",
    "    >>> x = 2*np.sin(2*np.pi*np.arange(0, 3, .01))\n",
    "    >>> ta, tai, taf, amp = detect_cusum(x, 1, .05, True, True)\n",
    "    \"\"\"\n",
    "\n",
    "    pos_csum = [0, 0]  # gp\n",
    "    neg_csum = [0, 0]  # gn\n",
    "\n",
    "    x = np.atleast_1d(x).astype('float64')\n",
    "    alarm_index = []\n",
    "    change_index = []\n",
    "    pos_alarm_index = 0\n",
    "    neg_alarm_index = 0\n",
    "\n",
    "    # Find changes (online form)\n",
    "    for i in range(1, x.size):\n",
    "        s = x[i] - x[i-1]\n",
    "        pos_csum.append(pos_csum[i-1] + s - drift)  # cumulative sum for + change\n",
    "        neg_csum.append(neg_csum[i-1] - s - drift)  # cumulative sum for - change\n",
    "\n",
    "        if pos_csum[i] < 0:\n",
    "            pos_csum[i], pos_alarm_index = 0, i\n",
    "        if neg_csum[i] < 0:\n",
    "            neg_csum[i], neg_alarm_index = 0, i\n",
    "        if pos_csum[i] > threshold or neg_csum[i] > threshold:  # change detected!\n",
    "            alarm_index = np.append(alarm_index, i)    # alarm index\n",
    "            if pos_csum[i] > threshold:\n",
    "                change_index = np.append(change_index, pos_alarm_index)  # start\n",
    "            else:\n",
    "                change_index = np.append(change_index, neg_alarm_index)  # start\n",
    "\n",
    "            pos_csum[i], neg_csum[i] = 0, 0      # reset alarm\n",
    "\n",
    "    return alarm_index, change_index"
   ]
  },
  {
   "cell_type": "code",
   "execution_count": 5,
   "metadata": {},
   "outputs": [],
   "source": [
    "import numpy as np\n",
    "import pandas as pd\n",
    "\n",
    "\n",
    "class K_ADWIN(object):\n",
    "    \"\"\"\n",
    "\n",
    "    Parameters\n",
    "    ----------\n",
    "\n",
    "    Attributes\n",
    "    ----------\n",
    "    labels_ : The cluster labels identified during fitting\n",
    "    components_ : The vector array input used in fitting\n",
    "\n",
    "    _dbscan : The internal DBSCAN classifier\n",
    "    _meanshift : The internal Mean Shift classifier\n",
    "    _knn : The internal KNN classifier\n",
    "    \"\"\"\n",
    "    def __init__(self):\n",
    "        \"\"\"\n",
    "        \n",
    "        \"\"\"\n",
    "        self.wup = None\n",
    "        self.wlow = None\n",
    "        \n",
    "        self.data_id = 0\n",
    "        self.memory_id = 0\n",
    "        \n",
    "        self.cluster_store = {}\n",
    "        self.templ = {'prob': 0.5, 'cnt': 0, 'frauds': 0, 'labels':0 }\n",
    "    \n",
    "        self.data_store = pd.DataFrame([], columns=['x1', 'x2', 'cl_id', 'prob', 'label', 'fraud'])\n",
    "        \n",
    "    \n",
    "        self.memory = self.data_store.loc[self.wlow:self.wup]\n",
    "        \n",
    "        ############################################################################################\n",
    "        #                                        CUSUM\n",
    "        ############################################################################################\n",
    "        self.pos_csum = [0]\n",
    "        self.neg_csum = [0] \n",
    "\n",
    "        self.alarm_index = []  # alarm time (index of when the change was detected)\n",
    "        self.change_index = []  #  index of when the change started\n",
    "        self.pos_alarm_index = 0\n",
    "        self.neg_alarm_index = 0\n",
    "        \n",
    "        self.alarm = False\n",
    "    \n",
    "    def __update_memory_store(self):\n",
    "        self.memory_snapshots = {self.memory_id: self.memory.to_dict('series')}\n",
    "    \n",
    "    def __update_unique_clusters(self):\n",
    "        self.uniq_clusters = np.unique(self.data_store['cl_id'])\n",
    "        \n",
    "    def __update_cluster_store(self):\n",
    "        templ = {'prob': 0.5, 'cnt': 0, 'frauds': 0, 'labels':0 }\n",
    "        for cl_id in self.uniq_clusters:\n",
    "            tmp = self.memory[self.memory['cl_id'] == cl_id]\n",
    "            self.cluster_store[cl_id] = {'cnt': tmp.shape[0],\n",
    "                                         'frauds': tmp['fraud'].sum(),\n",
    "                                         'labels': tmp['label'].sum(),\n",
    "                                         'prob': np.mean(self.memory['prob'])}\n",
    "            \n",
    "    def CUSUM(self, threshold=3, drift=0):\n",
    "        \"\"\"Cumulative sum algorithm (CUSUM) to detect abrupt changes in data.\n",
    "\n",
    "        Parameters\n",
    "        ----------\n",
    "        x : 1D array_like\n",
    "            data\n",
    "        threshold : positive number, optional (default = 1)\n",
    "            amplitude threshold for the change in the data.\n",
    "        drift : positive number, optional (default = 0)\n",
    "            drift term that prevents any change in the absence of change.\n",
    "\n",
    "        Returns\n",
    "        -------\n",
    "        ta : 1D array_like [indi, indf], int\n",
    "            alarm time (index of when the change was detected).\n",
    "        tai : 1D array_like, int\n",
    "            index of when the change started.\n",
    "\n",
    "        self.alarm_ind = []\n",
    "        self.shift_ind = []\n",
    "\n",
    "        Notes\n",
    "        -----\n",
    "        Adapted from:\n",
    "            Marcos Duarte\n",
    "            github.com/demotu/BMC/\n",
    "            \n",
    "        Tuning of the CUSUM algorithm according to Gustafsson (2000)[1]_:\n",
    "        Start with a very large `threshold`.\n",
    "        Choose `drift` to one half of the expected change, or adjust `drift` such\n",
    "        that `g` = 0 more than 50% of the time.\n",
    "        Then set the `threshold` so the required number of false alarms (this can\n",
    "        be done automatically) or delay for detection is obtained.\n",
    "        If faster detection is sought, try to decrease `drift`.\n",
    "        If fewer false alarms are wanted, try to increase `drift`.\n",
    "        If there is a subset of the change times that does not make sense,\n",
    "        try to increase `drift`.\n",
    "\n",
    "        Note that by default repeated sequential changes, i.e., changes that have\n",
    "        the same beginning (`tai`) are not deleted because the changes were\n",
    "        detected by the alarm (`ta`) at different instants. This is how the\n",
    "        classical CUSUM algorithm operates.\n",
    "\n",
    "        If you want to delete the repeated sequential changes and keep only the\n",
    "        beginning of the first sequential change, set the parameter `ending` to\n",
    "        True. In this case, the index of the ending of the change (`taf`) and the\n",
    "        amplitude of the change (or of the total amplitude for a repeated\n",
    "        sequential change) are calculated and only the first change of the repeated\n",
    "        sequential changes is kept. In this case, it is likely that `ta`, `tai`,\n",
    "        and `taf` will have less values than when `ending` was set to False.\n",
    "\n",
    "        See this IPython Notebook [2]_.\n",
    "\n",
    "        References\n",
    "        ----------\n",
    "        .. [1] Gustafsson (2000) Adaptive Filtering and Change Detection.\n",
    "        .. [2] hhttp://nbviewer.ipython.org/github/demotu/BMC/blob/master/notebooks/DetectCUSUM.ipynb\n",
    "        \"\"\"\n",
    "        # Reset alarm\n",
    "        self.alarm = False\n",
    "\n",
    "        s = self.kalman_estimates[-1] - self.kalman_estimates[-2]\n",
    "        pos_csum = self.pos_csum[-1] + s - drift  # cumulative sum for + change\n",
    "        neg_csum = self.neg_csum[-1] - s - drift  # cumulative sum for - change\n",
    "\n",
    "        if pos_csum < 0:\n",
    "            print(pos_csum)\n",
    "            self.pos_csum.append(0)\n",
    "            self.pos_alarm_index = self.data_id\n",
    "\n",
    "        if neg_csum < 0:\n",
    "            print(neg_csum)\n",
    "            self.neg_csum.append(0)\n",
    "            self.neg_alarm_index = self.data_id\n",
    "\n",
    "        if pos_csum > threshold or neg_csum > threshold:  # change detected!\n",
    "\n",
    "            self.alarm = True\n",
    "            self.alarm_index.append(self.data_id)    # alarm index\n",
    "\n",
    "            if pos_csum > threshold:\n",
    "                self.change_index.append(self.pos_alarm_index)  # start\n",
    "            else:\n",
    "                self.change_index.append(self.neg_alarm_index)  # start\n",
    "\n",
    "            self.pos_csum.append(0)  # reset alarm\n",
    "            self.neg_csum.append(0)  # reset alarm\n",
    "        \n",
    "    \n",
    "    def test_CUSUM(self):\n",
    "        cnt = 0\n",
    "        self.kalman_estimates = [0, 0]\n",
    "        while not self.alarm:\n",
    "            self.kalman_estimates.append(self.data_store.loc[cnt, 'x1'])\n",
    "            self.CUSUM()\n",
    "            print(self.alarm)\n",
    "            cnt += 1"
   ]
  },
  {
   "cell_type": "code",
   "execution_count": 6,
   "metadata": {},
   "outputs": [],
   "source": [
    "kadwin = K_ADWIN()"
   ]
  },
  {
   "cell_type": "code",
   "execution_count": 7,
   "metadata": {},
   "outputs": [
    {
     "data": {
      "text/html": [
       "<div>\n",
       "<style scoped>\n",
       "    .dataframe tbody tr th:only-of-type {\n",
       "        vertical-align: middle;\n",
       "    }\n",
       "\n",
       "    .dataframe tbody tr th {\n",
       "        vertical-align: top;\n",
       "    }\n",
       "\n",
       "    .dataframe thead th {\n",
       "        text-align: right;\n",
       "    }\n",
       "</style>\n",
       "<table border=\"1\" class=\"dataframe\">\n",
       "  <thead>\n",
       "    <tr style=\"text-align: right;\">\n",
       "      <th></th>\n",
       "      <th>x1</th>\n",
       "      <th>x2</th>\n",
       "      <th>cl_id</th>\n",
       "      <th>prob</th>\n",
       "      <th>label</th>\n",
       "      <th>fraud</th>\n",
       "    </tr>\n",
       "  </thead>\n",
       "  <tbody>\n",
       "  </tbody>\n",
       "</table>\n",
       "</div>"
      ],
      "text/plain": [
       "Empty DataFrame\n",
       "Columns: [x1, x2, cl_id, prob, label, fraud]\n",
       "Index: []"
      ]
     },
     "execution_count": 7,
     "metadata": {},
     "output_type": "execute_result"
    }
   ],
   "source": [
    "kadwin.memory"
   ]
  },
  {
   "cell_type": "code",
   "execution_count": 8,
   "metadata": {},
   "outputs": [
    {
     "data": {
      "text/html": [
       "<div>\n",
       "<style scoped>\n",
       "    .dataframe tbody tr th:only-of-type {\n",
       "        vertical-align: middle;\n",
       "    }\n",
       "\n",
       "    .dataframe tbody tr th {\n",
       "        vertical-align: top;\n",
       "    }\n",
       "\n",
       "    .dataframe thead th {\n",
       "        text-align: right;\n",
       "    }\n",
       "</style>\n",
       "<table border=\"1\" class=\"dataframe\">\n",
       "  <thead>\n",
       "    <tr style=\"text-align: right;\">\n",
       "      <th></th>\n",
       "      <th>x1</th>\n",
       "      <th>x2</th>\n",
       "      <th>cl_id</th>\n",
       "      <th>prob</th>\n",
       "      <th>label</th>\n",
       "      <th>fraud</th>\n",
       "    </tr>\n",
       "  </thead>\n",
       "  <tbody>\n",
       "  </tbody>\n",
       "</table>\n",
       "</div>"
      ],
      "text/plain": [
       "Empty DataFrame\n",
       "Columns: [x1, x2, cl_id, prob, label, fraud]\n",
       "Index: []"
      ]
     },
     "execution_count": 8,
     "metadata": {},
     "output_type": "execute_result"
    }
   ],
   "source": [
    "kadwin.data_store"
   ]
  },
  {
   "cell_type": "code",
   "execution_count": 9,
   "metadata": {},
   "outputs": [],
   "source": [
    "n = 1000"
   ]
  },
  {
   "cell_type": "code",
   "execution_count": 23,
   "metadata": {},
   "outputs": [],
   "source": [
    "arr1 = np.random.normal(0, 0.3, size=(n, 1))\n",
    "arr2 = np.random.normal(0, 1, size=(100, 1))\n",
    "arr3 = np.random.normal(0, 0.3, size=(n, 1))\n",
    "\n",
    "arr = np.vstack((arr1, arr2, arr3))"
   ]
  },
  {
   "cell_type": "code",
   "execution_count": 24,
   "metadata": {},
   "outputs": [
    {
     "data": {
      "text/plain": [
       "[<matplotlib.lines.Line2D at 0x10b504eb8>]"
      ]
     },
     "execution_count": 24,
     "metadata": {},
     "output_type": "execute_result"
    },
    {
     "data": {
      "image/png": "[encoded data removed]",
      "text/plain": [
       "<matplotlib.figure.Figure at 0x10a8f9f28>"
      ]
     },
     "metadata": {},
     "output_type": "display_data"
    }
   ],
   "source": [
    "plt.figure(figsize=(20, 15))\n",
    "plt.plot(arr)"
   ]
  },
  {
   "cell_type": "code",
   "execution_count": null,
   "metadata": {},
   "outputs": [],
   "source": [
    "def"
   ]
  },
  {
   "cell_type": "code",
   "execution_count": 285,
   "metadata": {},
   "outputs": [],
   "source": [
    "kadwin.data_store[['x1', 'x2']] = pd.DataFrame(arr)"
   ]
  },
  {
   "cell_type": "code",
   "execution_count": 286,
   "metadata": {},
   "outputs": [],
   "source": [
    "kadwin.data_store['prob'] = 0.5"
   ]
  },
  {
   "cell_type": "code",
   "execution_count": 287,
   "metadata": {},
   "outputs": [],
   "source": [
    "kadwin.data_store[['label', 'fraud']] = 0"
   ]
  },
  {
   "cell_type": "code",
   "execution_count": 288,
   "metadata": {},
   "outputs": [],
   "source": [
    "s1 = np.std(kadwin.data_store.loc[:1001, 'x1'].values)"
   ]
  },
  {
   "cell_type": "code",
   "execution_count": 289,
   "metadata": {},
   "outputs": [
    {
     "data": {
      "text/plain": [
       "3.0058230711272587"
      ]
     },
     "execution_count": 289,
     "metadata": {},
     "output_type": "execute_result"
    }
   ],
   "source": [
    "s1 * 3"
   ]
  },
  {
   "cell_type": "code",
   "execution_count": 290,
   "metadata": {},
   "outputs": [
    {
     "name": "stdout",
     "output_type": "stream",
     "text": [
      "-1.2181070917988306\n",
      "False\n",
      "-2.487422112092909\n",
      "False\n",
      "-0.9429466347068401\n",
      "False\n",
      "-0.45757938723977576\n",
      "False\n",
      "-1.3243907825528585\n",
      "False\n",
      "-0.2733453017452194\n",
      "False\n",
      "-0.5752648783738812\n",
      "False\n",
      "-0.3924605836125563\n",
      "False\n",
      "-2.446931336377096\n",
      "False\n",
      "-1.1140973145092825\n",
      "False\n",
      "-2.192481269269667\n",
      "False\n",
      "-1.1508792684642912\n",
      "False\n",
      "-2.1008190373364357\n",
      "False\n",
      "-1.9796925910603647\n",
      "False\n",
      "-0.18013845829473196\n",
      "False\n",
      "-0.11952577474941217\n",
      "False\n",
      "-1.8825926549298932\n",
      "False\n",
      "-2.2407839712222484\n",
      "False\n",
      "-2.7525181249783115\n",
      "False\n",
      "-2.9431605633161477\n",
      "False\n",
      "-0.07121701669637054\n",
      "False\n",
      "-0.5079598724990068\n",
      "False\n",
      "-1.941387818295478\n",
      "False\n",
      "-3.4831462022352166\n",
      "True\n"
     ]
    }
   ],
   "source": [
    "kadwin.test_CUSUM()"
   ]
  },
  {
   "cell_type": "code",
   "execution_count": 241,
   "metadata": {},
   "outputs": [
    {
     "data": {
      "text/plain": [
       "(array([  24.,   25.,   70.,   71.,  132.,  133.,  162.,  175.,  198.,\n",
       "         211.,  218.,  233.,  245.,  252.,  271.,  272.,  279.,  288.,\n",
       "         317.,  318.,  328.,  329.,  369.,  372.,  384.,  390.,  411.,\n",
       "         412.,  423.,  430.,  443.,  444.,  453.,  454.,  463.,  464.,\n",
       "         471.,  474.,  512.,  513.,  541.,  542.,  563.,  564.,  606.,\n",
       "         607.,  632.,  635.,  657.,  676.,  677.,  684.,  696.,  697.,\n",
       "         764.,  772.,  786.,  789.,  818.,  819.,  841.,  846.,  879.,\n",
       "         880.,  890.,  895.,  902.,  921.,  926.,  946.,  947.,  959.,\n",
       "         960.,  974.,  975.,  993., 1002., 1008., 1015., 1016., 1028.,\n",
       "        1033., 1039., 1040., 1058., 1059., 1069., 1070., 1078., 1081.,\n",
       "        1087., 1090., 1107., 1110., 1139., 1154., 1155., 1183., 1184.,\n",
       "        1193., 1204., 1223., 1224., 1229., 1232., 1236., 1237., 1244.,\n",
       "        1258., 1259., 1263., 1273., 1276., 1284., 1285., 1290., 1300.,\n",
       "        1301., 1311., 1314., 1319., 1320., 1330., 1331., 1366., 1373.,\n",
       "        1374., 1379., 1380., 1388., 1389., 1419., 1422., 1431., 1432.,\n",
       "        1440., 1464., 1465., 1476., 1477., 1484., 1487., 1496., 1503.,\n",
       "        1506., 1522., 1525., 1530., 1553., 1562., 1563., 1577., 1578.,\n",
       "        1587., 1588., 1591., 1596., 1618., 1619., 1634., 1635., 1660.,\n",
       "        1661., 1678., 1679., 1697., 1698., 1722., 1723., 1736., 1737.,\n",
       "        1744., 1747., 1764., 1765., 1774., 1775., 1785., 1786., 1796.,\n",
       "        1797., 1800., 1802., 1813., 1820., 1845., 1850., 1851., 1866.,\n",
       "        1867., 1876., 1885., 1923., 1924., 1940., 1941., 1956., 1969.,\n",
       "        1970.]),\n",
       " array([  23.,   24.,   69.,   70.,   98.,  132.,  159.,  162.,  175.,\n",
       "         208.,  211.,  232.,  244.,  249.,  270.,  271.,  278.,  279.,\n",
       "         316.,  317.,  327.,  328.,  350.,  369.,  380.,  389.,  404.,\n",
       "         411.,  422.,  425.,  440.,  443.,  452.,  453.,  462.,  463.,\n",
       "         470.,  473.,  509.,  512.,  538.,  541.,  562.,  563.,  585.,\n",
       "         606.,  631.,  632.,  653.,  675.,  676.,  681.,  686.,  696.,\n",
       "         763.,  764.,  772.,  788.,  817.,  818.,  838.,  843.,  878.,\n",
       "         879.,  889.,  894.,  901.,  920.,  925.,  945.,  946.,  958.,\n",
       "         959.,  973.,  974.,  983., 1001., 1007., 1014., 1015., 1022.,\n",
       "        1028., 1038., 1039., 1057., 1058., 1068., 1069., 1077., 1078.,\n",
       "        1084., 1087., 1106., 1107., 1123., 1153., 1154., 1182., 1183.,\n",
       "        1192., 1197., 1218., 1223., 1228., 1231., 1235., 1236., 1243.,\n",
       "        1244., 1258., 1262., 1268., 1275., 1283., 1284., 1289., 1299.,\n",
       "        1300., 1308., 1313., 1318., 1319., 1329., 1330., 1365., 1370.,\n",
       "        1373., 1376., 1379., 1387., 1388., 1416., 1421., 1428., 1431.,\n",
       "        1439., 1458., 1464., 1475., 1476., 1483., 1484., 1495., 1502.,\n",
       "        1505., 1521., 1524., 1529., 1552., 1561., 1562., 1576., 1577.,\n",
       "        1586., 1587., 1590., 1595., 1617., 1618., 1633., 1634., 1655.,\n",
       "        1660., 1677., 1678., 1696., 1697., 1708., 1722., 1735., 1736.,\n",
       "        1743., 1744., 1759., 1764., 1773., 1774., 1780., 1785., 1795.,\n",
       "        1796., 1799., 1800., 1807., 1819., 1820., 1849., 1850., 1856.,\n",
       "        1866., 1875., 1878., 1909., 1923., 1938., 1940., 1950., 1968.,\n",
       "        1969.]))"
      ]
     },
     "execution_count": 241,
     "metadata": {},
     "output_type": "execute_result"
    }
   ],
   "source": [
    "detect_cusum(arr[:, 0], 5)"
   ]
  },
  {
   "cell_type": "code",
   "execution_count": 223,
   "metadata": {},
   "outputs": [
    {
     "data": {
      "text/plain": [
       "array([[-0.23428008, -0.62657984],\n",
       "       [-0.38508662,  1.50814574],\n",
       "       [ 0.01599863, -1.39611075],\n",
       "       ...,\n",
       "       [ 0.9815106 ,  3.54738085],\n",
       "       [ 0.91373931, -0.63027629],\n",
       "       [ 0.71960776, -0.66654665]])"
      ]
     },
     "execution_count": 223,
     "metadata": {},
     "output_type": "execute_result"
    }
   ],
   "source": [
    "arr"
   ]
  },
  {
   "cell_type": "code",
   "execution_count": null,
   "metadata": {},
   "outputs": [],
   "source": []
  },
  {
   "cell_type": "code",
   "execution_count": null,
   "metadata": {},
   "outputs": [],
   "source": []
  }
 ],
 "metadata": {
  "kernelspec": {
   "display_name": "Python 3",
   "language": "python",
   "name": "python3"
  },
  "language_info": {
   "codemirror_mode": {
    "name": "ipython",
    "version": 3
   },
   "file_extension": ".py",
   "mimetype": "text/x-python",
   "name": "python",
   "nbconvert_exporter": "python",
   "pygments_lexer": "ipython3",
   "version": "3.6.5"
  }
 },
 "nbformat": 4,
 "nbformat_minor": 2
}
