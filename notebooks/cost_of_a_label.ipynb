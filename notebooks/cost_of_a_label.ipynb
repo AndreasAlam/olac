{
 "cells": [
  {
   "cell_type": "markdown",
   "metadata": {},
   "source": [
    "# Cost of a label\n",
    "In this notebook one can find some simple examples of how the cost of a label is calculated. The cost is determined after the decission is made to buy or not buy a certain label. "
   ]
  },
  {
   "cell_type": "code",
   "execution_count": 42,
   "metadata": {},
   "outputs": [],
   "source": [
    "import pandas as pd\n",
    "import numpy as np\n",
    "import olac.data_generators as dg\n",
    "import matplotlib.pyplot as plt\n",
    "import olac.cost_of_label as cst\n",
    "%matplotlib inline"
   ]
  },
  {
   "cell_type": "markdown",
   "metadata": {},
   "source": [
    "The data can come in 2 different ways. one is the streaming way which is used for online learning. The other one is that is comes in batches which is used for the batch training."
   ]
  },
  {
   "cell_type": "markdown",
   "metadata": {},
   "source": [
    "#### Batch like data"
   ]
  },
  {
   "cell_type": "code",
   "execution_count": 43,
   "metadata": {},
   "outputs": [],
   "source": [
    "cost=[]\n",
    "for i in range(0,500):\n",
    "    data = dg.cluster_generator()\n",
    "    decision = np.random.binomial(1,0.5, size=1001)\n",
    "    cost.append(cst.cost_of_label(data, decision, data_type='array').sum())"
   ]
  },
  {
   "cell_type": "code",
   "execution_count": 44,
   "metadata": {},
   "outputs": [
    {
     "data": {
      "text/plain": [
       "(array([16., 10., 22., 19., 19., 43., 28., 40., 38., 42., 50., 37., 29.,\n",
       "        33., 24., 18., 14.,  8.,  6.,  4.]),\n",
       " array([-523.  , -467.45, -411.9 , -356.35, -300.8 , -245.25, -189.7 ,\n",
       "        -134.15,  -78.6 ,  -23.05,   32.5 ,   88.05,  143.6 ,  199.15,\n",
       "         254.7 ,  310.25,  365.8 ,  421.35,  476.9 ,  532.45,  588.  ]),\n",
       " <a list of 20 Patch objects>)"
      ]
     },
     "execution_count": 44,
     "metadata": {},
     "output_type": "execute_result"
    },
    {
     "data": {
      "image/png": "[encoded data removed]",
      "text/plain": [
       "<matplotlib.figure.Figure at 0x10b4c51d0>"
      ]
     },
     "metadata": {},
     "output_type": "display_data"
    }
   ],
   "source": [
    "plt.hist(cost, bins=20)"
   ]
  },
  {
   "cell_type": "markdown",
   "metadata": {},
   "source": [
    "#### single datapoint like data"
   ]
  },
  {
   "cell_type": "code",
   "execution_count": 45,
   "metadata": {},
   "outputs": [
    {
     "name": "stdout",
     "output_type": "stream",
     "text": [
      "-126.0\n"
     ]
    }
   ],
   "source": [
    "data = dg.cluster_generator()\n",
    "\n",
    "list_tmp= []\n",
    "for i in data:\n",
    "    decision = np.random.binomial(1,0.5)\n",
    "    list_tmp.append(cst.cost_investigation(i, decision))\n",
    "print(sum(list_tmp))\n",
    "    "
   ]
  },
  {
   "cell_type": "code",
   "execution_count": 46,
   "metadata": {},
   "outputs": [
    {
     "data": {
      "text/plain": [
       "(array([213.,   0., 291.,   0., 300.,   0.,   0.,   0.,   0., 197.]),\n",
       " array([-2. , -1.5, -1. , -0.5,  0. ,  0.5,  1. ,  1.5,  2. ,  2.5,  3. ]),\n",
       " <a list of 10 Patch objects>)"
      ]
     },
     "execution_count": 46,
     "metadata": {},
     "output_type": "execute_result"
    },
    {
     "data": {
      "image/png": "[encoded data removed]",
      "text/plain": [
       "<matplotlib.figure.Figure at 0x10bd7d9e8>"
      ]
     },
     "metadata": {},
     "output_type": "display_data"
    }
   ],
   "source": [
    "plt.hist(list_tmp)"
   ]
  },
  {
   "cell_type": "code",
   "execution_count": null,
   "metadata": {},
   "outputs": [],
   "source": []
  }
 ],
 "metadata": {
  "kernelspec": {
   "display_name": "olac_base",
   "language": "python",
   "name": "olac_base"
  },
  "language_info": {
   "codemirror_mode": {
    "name": "ipython",
    "version": 3
   },
   "file_extension": ".py",
   "mimetype": "text/x-python",
   "name": "python",
   "nbconvert_exporter": "python",
   "pygments_lexer": "ipython3",
   "version": "3.6.5"
  }
 },
 "nbformat": 4,
 "nbformat_minor": 2
}
