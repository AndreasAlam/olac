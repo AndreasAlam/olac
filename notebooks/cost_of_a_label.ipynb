{
 "cells": [
  {
   "cell_type": "code",
   "execution_count": 1,
   "metadata": {},
   "outputs": [],
   "source": [
    "import pandas as pd\n",
    "import numpy as np\n",
    "import olac.data_generators as dg\n",
    "import matplotlib.pyplot as plt\n",
    "%matplotlib inline"
   ]
  },
  {
   "cell_type": "code",
   "execution_count": 144,
   "metadata": {},
   "outputs": [],
   "source": [
    "def cost_investigation(data_point, decision, salary=-1.0, fraud_label=1):\n",
    "    correct_label = data_point[-1]\n",
    "    if  (decision == 1) & (correct_label == fraud_label):\n",
    "        # we found a fraud label so we investigated in the right way! We made money!\n",
    "        profit = 4\n",
    "        loss = 0\n",
    "    elif (decision == 1) & (correct_label != fraud_label):\n",
    "        # we did investigate a none fraud case so we lost only the salary\n",
    "        profit = 0\n",
    "        loss = 0\n",
    "    elif (decision == 0) & (correct_label == fraud_label):\n",
    "        # we missed some fraud this is bad!!!\n",
    "        profit = 0\n",
    "        loss = -1\n",
    "    elif (decision == 0) & (correct_label != fraud_label):\n",
    "        # we did not investigate no fraud\n",
    "        profit = 1\n",
    "        loss = 0\n",
    "    cost = salary + profit + loss\n",
    "    return cost"
   ]
  },
  {
   "cell_type": "code",
   "execution_count": 145,
   "metadata": {},
   "outputs": [],
   "source": [
    "def cost_of_label(data, decision, data_type='point'):\n",
    "    \"\"\"\n",
    "    This function gives back the cost of obtaining a label from the incoming data. It will check if the classification\n",
    "    of the points one wants to investigate is correct and assesses a profit or loss on each result.\n",
    "    \n",
    "    a data point has the format [x,y,label] where label is always the last entry in the list\n",
    "\n",
    "    Parameters\n",
    "    ----------\n",
    "    data : can be either a data point or a array of data points.\n",
    "    decision : bool or array of bools, investigate a point True or False\n",
    "\n",
    "    Returns\n",
    "    -------\n",
    "    costs for obtaining a certain label of a data point or labels of an array of data points\n",
    "\n",
    "    \"\"\"\n",
    "    if data_type == 'point':\n",
    "        cost = cost_investigation(data, decision)\n",
    "        return cost\n",
    "\n",
    "\n",
    "    elif data_type == 'array':\n",
    "        # array like data input\n",
    "        df = pd.DataFrame(list(data))\n",
    "        df.columns = ['x', 'y', 'label']\n",
    "        df['decision'] = decision\n",
    "        df['cost'] = df.apply(lambda x: cost_investigation(x[['x', 'y', 'label']], x['decision']), axis=1)\n",
    "\n",
    "        return np.array(df['cost'])\n",
    "    \n",
    "    \n",
    "    \n",
    "    \n",
    "    \n",
    "    "
   ]
  },
  {
   "cell_type": "code",
   "execution_count": 148,
   "metadata": {},
   "outputs": [],
   "source": [
    "cost=[]\n",
    "for i in range(0,500):\n",
    "    data = dg.cluster_generator()\n",
    "    decission = np.random.binomial(1,0.5, size=1001)\n",
    "    cost.append(cost_of_label(data, decission, data_type='array').sum())"
   ]
  },
  {
   "cell_type": "code",
   "execution_count": 149,
   "metadata": {},
   "outputs": [
    {
     "data": {
      "text/plain": [
       "(array([18.,  7., 23., 28., 20., 35., 44., 37., 37., 49., 37., 34., 31.,\n",
       "        27., 34., 11., 20.,  3.,  3.,  2.]),\n",
       " array([-523. , -465.7, -408.4, -351.1, -293.8, -236.5, -179.2, -121.9,\n",
       "         -64.6,   -7.3,   50. ,  107.3,  164.6,  221.9,  279.2,  336.5,\n",
       "         393.8,  451.1,  508.4,  565.7,  623. ]),\n",
       " <a list of 20 Patch objects>)"
      ]
     },
     "execution_count": 149,
     "metadata": {},
     "output_type": "execute_result"
    },
    {
     "data": {
      "image/png": "[encoded data removed]",
      "text/plain": [
       "<matplotlib.figure.Figure at 0x10a714cf8>"
      ]
     },
     "metadata": {},
     "output_type": "display_data"
    }
   ],
   "source": [
    "plt.hist(cost, bins=20)"
   ]
  },
  {
   "cell_type": "code",
   "execution_count": 152,
   "metadata": {},
   "outputs": [
    {
     "data": {
      "text/plain": [
       "(-10.736, 245.95721234393596)"
      ]
     },
     "execution_count": 152,
     "metadata": {},
     "output_type": "execute_result"
    }
   ],
   "source": [
    "np.mean(cost), np.std(cost)"
   ]
  },
  {
   "cell_type": "code",
   "execution_count": 87,
   "metadata": {},
   "outputs": [
    {
     "name": "stdout",
     "output_type": "stream",
     "text": [
      "595.0\n"
     ]
    }
   ],
   "source": [
    "data = dg.cluster_generator()\n",
    "\n",
    "list_tmp= []\n",
    "for i in data:\n",
    "    decision = np.random.binomial(1,0.5)\n",
    "    classification = np.random.binomial(1,0.5)\n",
    "    list_tmp.append(cost_investigation(i, classification))\n",
    "print(sum(list_tmp))\n",
    "    "
   ]
  },
  {
   "cell_type": "code",
   "execution_count": 88,
   "metadata": {},
   "outputs": [
    {
     "data": {
      "text/plain": [
       "(array([149.,   0.,   0.,   0.,   0., 129.,   0.,   0., 383., 340.]),\n",
       " array([-2.  , -1.65, -1.3 , -0.95, -0.6 , -0.25,  0.1 ,  0.45,  0.8 ,\n",
       "         1.15,  1.5 ]),\n",
       " <a list of 10 Patch objects>)"
      ]
     },
     "execution_count": 88,
     "metadata": {},
     "output_type": "execute_result"
    },
    {
     "data": {
      "image/png": "[encoded data removed]",
      "text/plain": [
       "<matplotlib.figure.Figure at 0x109c39d68>"
      ]
     },
     "metadata": {},
     "output_type": "display_data"
    }
   ],
   "source": [
    "plt.hist(list_tmp)"
   ]
  },
  {
   "cell_type": "code",
   "execution_count": 89,
   "metadata": {},
   "outputs": [
    {
     "data": {
      "text/plain": [
       "595.0"
      ]
     },
     "execution_count": 89,
     "metadata": {},
     "output_type": "execute_result"
    }
   ],
   "source": [
    "sum(list_tmp)"
   ]
  },
  {
   "cell_type": "code",
   "execution_count": null,
   "metadata": {},
   "outputs": [],
   "source": []
  }
 ],
 "metadata": {
  "kernelspec": {
   "display_name": "olac_base",
   "language": "python",
   "name": "olac_base"
  },
  "language_info": {
   "codemirror_mode": {
    "name": "ipython",
    "version": 3
   },
   "file_extension": ".py",
   "mimetype": "text/x-python",
   "name": "python",
   "nbconvert_exporter": "python",
   "pygments_lexer": "ipython3",
   "version": "3.6.5"
  }
 },
 "nbformat": 4,
 "nbformat_minor": 2
}
