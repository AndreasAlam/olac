{
 "cells": [
  {
   "cell_type": "markdown",
   "metadata": {},
   "source": [
    "# Running an Online Backtesting Pipeline\n",
    "\n",
    "In this notebook we will demonstrate the pipeline testing infractructure provided by `olac`. The goal is to have a consistent and configurable way of testing out different models and training and labelling strategies, without worrying about how to track results. A new infrastructire is needed due to the dynamic nature of the models, which makes a static train/test scenario inappropriate. \n",
    "\n",
    "We will demonstrate the pipeline by implementing our own training and labelling strategies, and backtesting the results.\n",
    "\n",
    "The core functionality of the pipeline is provided by the `Pipeline` class. A `Pipeline` object consists of:\n",
    "* A `data_generator`, from which new data points are pulled. This may also be a list or any other iterable object.\n",
    "* A `model`, which is used for prediction on each new data point\n",
    "* A `predictor`, which decides how to make predictions and when to retrain or update the model\n",
    "* A `labeller`, which decides when and how to buy new labels.\n",
    "\n",
    "\n",
    "The idea behind the backtesting procedure is to have two parallel processes. One continuously gets new data points, updates the model, and makes predictions. The other gathers the newly arrived points, buys labels for them using some strategy, and gives them back to the predicting process for updating the model. To facilitate this, the `Pipeline` also exposes objects for communication between the processes:\n",
    "* A `labelling_queue`, for new points that have been predicted and are now waiting to be labelled (or not)\n",
    "* A `training_queue`, for points that have been labelled and are now waiting to be used for updating the model.\n",
    "\n",
    "Note that queues are objects that accept objects and return them in the order they arrived (first in, first out). Once an object has been gotten from a queue then it is no longer availble in the queue, i.e. the queue gets smaller. The builtin queues only allow getting and putting one item at a time, so the `pipeline` uses custom `olac.pipeline.BatchQueues` which provide the convenience methods `get_all` and `put_all` for emptying the whole queue and putting an entire list of items back in.\n",
    "\n",
    "The queues contain `QueuePoint`s, which are data objects containing:\n",
    "* `point`: the datapoint itself, which is usually a numpy array\n",
    "* `index`: the index of the points as it leaves the `data_generator` (this is important for keeping track of the order of the results after the pipeline is run)\n",
    "* `predicted_label`\n",
    "* `prob`: Some measure of uncertainty, like the output from the `model`'s `decision_function` or `predict_proba` methods.\n",
    "* `true_label`\n",
    " \n",
    "The basic backtesting procedure is to initualize the pipeline with a data generator, a model, a predictor, and a labeller, and then to run the test using `pipeline.run()`. After running the pipeline, the results are returned as lists of QueuePoints in the order that they occured for replaying or further analysis. "
   ]
  },
  {
   "cell_type": "code",
   "execution_count": 1,
   "metadata": {},
   "outputs": [],
   "source": [
    "import warnings\n",
    "warnings.filterwarnings('ignore', message='.*')"
   ]
  },
  {
   "cell_type": "code",
   "execution_count": 2,
   "metadata": {},
   "outputs": [],
   "source": [
    "% matplotlib inline\n",
    "% load_ext autoreload\n",
    "% autoreload 2"
   ]
  },
  {
   "cell_type": "code",
   "execution_count": 3,
   "metadata": {},
   "outputs": [],
   "source": [
    "import olac\n",
    "\n",
    "import numpy as np\n",
    "import pandas as pd\n",
    "import matplotlib.pyplot as plt\n",
    "\n",
    "from sklearn.linear_model import PassiveAggressiveClassifier\n",
    "import sklearn"
   ]
  },
  {
   "cell_type": "markdown",
   "metadata": {},
   "source": [
    "To start off with, we select a dataset and a model. We choose something simple. Note that the model can actually be a `sklearn.pipeline` if there is any preprocessing involved, as long as it implements the methods we use in our `Predictor`.\n",
    "\n",
    "For our example we will use the online `PassiveAgressiveClassifier` on the roving balls dataset with 1000 points."
   ]
  },
  {
   "cell_type": "markdown",
   "metadata": {},
   "source": [
    "To begin setting up our pipeline we first implement our label buying strategy. This is achieved by subclassing the `olac.pipeline.LabellerBase` class and implementing the `buy_labels_condition` and `buy_labels` methods. \n",
    "\n",
    "As the name suggests, `buy_labels_condition` decides when to buy new labels. It is called continuously when the labelling process is not busy with labelling. It should return `True` when the condition for buying new labels is met. If calculating the condition requires access to the data points themselves, make sure to store them in an object property as they will no longer be available in the queue for use by `buy_labels`.\n",
    "\n",
    "In `buy_labels`, which gets called whenever `buy_labels_condition` is True, we should split the available points into *labelled* and *unlabelled* lists using some strategy. The method should return these as two lists of QueuePoints: one for which labels have been bought, and the other for the remaining unlabelled points. **The `pipeline` handles making the returned labelled points available to the predictor for updating the model.**\n",
    "\n",
    "Each of these methods recieves as an argument the `Pipeline` object itself. `pipeline.labelling_queue` contains the points that are waiting for a decision on labelling.\n",
    "\n",
    "The labeller is a stateful, so issues like tracking a budget for buying labels can be handled by setting additional properties of the object. The same is true for accumulating additional results. We demonstrate this below.\n"
   ]
  },
  {
   "cell_type": "markdown",
   "metadata": {},
   "source": [
    "Our labelling strategy will be very simple: We wait until the number of available points in the `labelling_queue` (accessible using `labelling_queue.qsize()`) reaches a certain threshold, and then we label some percentage of the points randomly. We use an internal property to keep track of how many labels we have bought, for budgeting purposes and also so we can double check our output after the pipeline is run. We make the threshold and the labelling probability configurable by including them as properties in our `__init__` method.\n",
    "\n",
    "Note that our methods must always accept the arguments `self` and `pipeline`, which gives access to the overall pipeline for talking to the queue.\n",
    "\n",
    "We will add some print statements to help is see what's going on while the pipeline is running.\n",
    "\n",
    "This example labeller is also available in `olac.pipeline`."
   ]
  },
  {
   "cell_type": "code",
   "execution_count": 4,
   "metadata": {},
   "outputs": [],
   "source": [
    "class ThresholdLabeller(olac.pipeline.LabellerBase):\n",
    "    \"\"\"A simple labeller. Once the number of points in the\n",
    "    pipeline.labelling_queue reaches a certain threshold, all points are\n",
    "    retrieved. Points are then randomly labelled with a certain probability.\n",
    "\n",
    "    The total number of labels purchased is tracked using an internal\n",
    "    counter property. This could be used for budgeting.\n",
    "\n",
    "    \"\"\"\n",
    "    def __init__(self, threshold, prob):\n",
    "        \"\"\"\n",
    "\n",
    "        Parameters\n",
    "        ----------\n",
    "        threshold: The minimum number of points to trigger a batch of labelling\n",
    "        prob: The probability with which each point will recieve a label.\n",
    "        \"\"\"\n",
    "        self.threshold = threshold\n",
    "        self.prob = prob\n",
    "\n",
    "        self.labels_bought = 0\n",
    "\n",
    "    def buy_labels_condition(self, pipeline,):\n",
    "        \"\"\"Buy labels if the labelling_queue is longer than the threshold.\"\"\"\n",
    "        n = pipeline.labelling_queue.qsize()\n",
    "        if n > self.threshold:\n",
    "            print(f'Labeller:\\tThreshold met, {n} new points avaible in queue')\n",
    "            return True\n",
    "        else:\n",
    "            return False\n",
    "\n",
    "    def buy_labels(self, pipeline,):\n",
    "        \"\"\"Get all the points from the labelling queue and label them with\n",
    "        some probability. \"\"\"\n",
    "        labelled_points = []\n",
    "        unlabelled_points = []\n",
    "\n",
    "        # Get all the points from the queue (queue will now be empty)\n",
    "        points = pipeline.labelling_queue.get_all()\n",
    "\n",
    "        for point in points:\n",
    "            # self.prob percent chance of being labelled\n",
    "            if np.random.uniform(0, 1) < self.prob:\n",
    "                self.labels_bought += 1\n",
    "                labelled_points.append(point)\n",
    "            else:\n",
    "                unlabelled_points.append(point)\n",
    "\n",
    "        print(f'Labeller:\\tLabelled {len(labelled_points)} new points')\n",
    "\n",
    "        return labelled_points, unlabelled_points\n"
   ]
  },
  {
   "cell_type": "markdown",
   "metadata": {},
   "source": [
    "Finally we implement a predictor. The approach is very similar to implementing the labeller, except that now we have three methods we need to implement: `train_condition`, `train_pipeline_model`, and `do_prediction`.\n",
    "\n",
    "The prediction worker calls these methods in approximately the following loop:\n",
    "\n",
    "```python\n",
    "for new_point in data_list:\n",
    "    if train_condition(pipeline):\n",
    "        train_pipeline_model(pipeline)\n",
    "    x = new_point[:-1]\n",
    "    y_pred, prob = do_prediction(pipeline, x)\n",
    "```\n",
    "\n",
    "`train_condition` is the condition for training or updating the model. For online models, this can happen whenever there are new labels available. Any available labelled points will appear in `pipeline.training_queue`. If calculating the condition requires access to the datapoints themselves, make sure to store them in an object property as they will no longer be available in the queue for `train_pipeline_model`. \n",
    "\n",
    "In `train_pipeline_model` we should access the `pipeline.model`, which is usually a scikit-learn model, and train or update it using the labelled points available in the `pipeline.training_queue`. \n",
    "\n",
    "`do_prediction` should accept as arguments the `pipeline` object as well as `x`, the point to be predicted. It should access the `pipeline.model` for making the prediction. This method should return two numbers: the prediction itself, as well as a measure of the model's certainty (usually given by `model.decision_function` or `model.predict_proba`).  **The `pipeline` handles making the returned prediction and certainty. as well as the data point available to the labeller for buying labels.**"
   ]
  },
  {
   "cell_type": "markdown",
   "metadata": {},
   "source": [
    "Again we use a simple strategy, which should actually be the default for online models: whenever there are any new labelled points available (`training_queue.empty()` is `False`), we update the model using all the available points. We make the training set for updating by looping through the available QueuePoints and getting the points themselves (arrays) and the true labels, stacking them into `numpy` arrays, and then calling `partial_fit` on the model.\n",
    "\n",
    "For prediction, we simply call the model's predict method with the new datapoint (recall that the data generator yields points of the form `[x0, x1, ..., y]`). If we are trying to make a prediction beofre the model has ever been updated, we will get an error from scikit-learn. We handle this by simply returning `np.nan`s for both the prediction and the probability."
   ]
  },
  {
   "cell_type": "code",
   "execution_count": 5,
   "metadata": {},
   "outputs": [],
   "source": [
    "class OnlinePredictor(olac.pipeline.PredictorBase):\n",
    "    \"\"\"A simple predictor for use with online models. The corresponding\n",
    "    pipeline.model should implement the partial_fit and the decision_function\n",
    "    methods.\n",
    "\n",
    "    \"\"\"\n",
    "    def train_condition(self, pipeline,):\n",
    "        \"\"\"Train anytime there are points available in the training queue\"\"\"\n",
    "        return not pipeline.training_queue.empty()\n",
    "\n",
    "    def train_pipeline_model(self, pipeline,):\n",
    "        \"\"\"\n",
    "        Update the model using all points available in the training queue\n",
    "        using pipeline.model.partial_fit.\n",
    "        \"\"\"\n",
    "        points = pipeline.training_queue.get_all()  # training_queue is now empty\n",
    "        print(f'Predictor:\\t{len(points)} new points available, training...')\n",
    "\n",
    "        X_train = np.vstack([np.array(p.point) for p in points])\n",
    "        y_train = np.array([p.true_label for p in points])\n",
    "\n",
    "        pipeline.model.partial_fit(X_train, y_train, classes=[0, 1])\n",
    "\n",
    "    def do_prediction(self, pipeline, x,):\n",
    "        \"\"\"\n",
    "        Make a prediction. If the model has not yet been fit (burn-in phase),\n",
    "        return NaNs.\n",
    "        \"\"\"\n",
    "        try:\n",
    "            y_pred = pipeline.model.predict([x])\n",
    "            prob = pipeline.model.decision_function([x])\n",
    "\n",
    "        # still burning in, return NaNs.\n",
    "        except sklearn.exceptions.NotFittedError:\n",
    "            y_pred = np.nan\n",
    "            prob = np.nan\n",
    "\n",
    "        return y_pred, prob\n"
   ]
  },
  {
   "cell_type": "markdown",
   "metadata": {},
   "source": [
    "Finally, it's time to run our pipeline. We set up our data generator and model, and also create instances of our labeller and our predictor. Then we pass them all to the pipeline and run it.\n",
    "\n",
    "Running the pipeline is as easy as calling `pipeline.run()`. This method returns two lists: the points for which we bought labels, and the points that we did not buy labels for. Running the pipeline can take some time, but since we have included print statements in our labeller and predictor we should be able to see what is going on.\n",
    "\n",
    "We had 1000 points in our dataset, so let's make our labelling threshold 100, and label approximately 10% of the points."
   ]
  },
  {
   "cell_type": "code",
   "execution_count": 6,
   "metadata": {},
   "outputs": [
    {
     "name": "stdout",
     "output_type": "stream",
     "text": [
      "Labeller:\tThreshold met, 204 new points avaible in queue\n",
      "Labeller:\tLabelled 18 new points\n",
      "Predictor:\t18 new points available, training...\n",
      "Labeller:\tThreshold met, 107 new points avaible in queue\n",
      "Labeller:\tLabelled 11 new points\n",
      "Predictor:\t11 new points available, training...\n",
      "Labeller:\tThreshold met, 118 new points avaible in queue\n",
      "Labeller:\tLabelled 11 new points\n",
      "Predictor:\t11 new points available, training...\n",
      "Labeller:\tThreshold met, 101 new points avaible in queue\n",
      "Labeller:\tLabelled 10 new points\n",
      "Predictor:\t10 new points available, training...\n",
      "Labeller:\tThreshold met, 128 new points avaible in queue\n",
      "Labeller:\tLabelled 19 new points\n",
      "Labeller:\tThreshold met, 131 new points avaible in queue\n",
      "Predictor:\t19 new points available, training...\n",
      "Labeller:\tLabelled 11 new points\n",
      "Predictor:\t11 new points available, training...\n"
     ]
    }
   ],
   "source": [
    "model = PassiveAggressiveClassifier()\n",
    "data = olac.data_generators.roving_balls(steps=1000)\n",
    "\n",
    "labeller = ThresholdLabeller(threshold=100, prob=0.1)\n",
    "predictor = OnlinePredictor()\n",
    "\n",
    "# create the pipeline\n",
    "pipeline = olac.pipeline.Pipeline(data, model, predictor, labeller)\n",
    "\n",
    "# run the backtest and get the results\n",
    "train_set, eval_set = pipeline.run()"
   ]
  },
  {
   "cell_type": "markdown",
   "metadata": {},
   "source": [
    "Awesome! Note that since getting new data points is so fast, the amount of points in the label queue was piling up more quickly than they could be processed, which is why the nubmer of points available was sometimes higher than the threshold.\n",
    "\n",
    "We expect that we labelled about 10% of the points, which we can check:"
   ]
  },
  {
   "cell_type": "code",
   "execution_count": 7,
   "metadata": {},
   "outputs": [
    {
     "name": "stdout",
     "output_type": "stream",
     "text": [
      "80 points labelled.\n"
     ]
    }
   ],
   "source": [
    "print(len(train_set), 'points labelled.')"
   ]
  },
  {
   "cell_type": "markdown",
   "metadata": {},
   "source": [
    "Recall that we also customized our labeller with a budget tracker that counted how many labels had been bought. We can check that this has been updated properly by getting it from our labeller object:"
   ]
  },
  {
   "cell_type": "code",
   "execution_count": 8,
   "metadata": {},
   "outputs": [
    {
     "name": "stdout",
     "output_type": "stream",
     "text": [
      "80 labels bought from budget.\n"
     ]
    }
   ],
   "source": [
    "print(labeller.labels_bought, 'labels bought from budget.')"
   ]
  },
  {
   "cell_type": "markdown",
   "metadata": {},
   "source": [
    "Obviously this permits a lot of flexibility, like adjusting the label probablilty based on how much of a budget is available, or not labelling any more points once the budget is used up."
   ]
  },
  {
   "cell_type": "markdown",
   "metadata": {},
   "source": [
    "Now we want to check out our model's performance. Currently `train_set` and `eval_set` (the unlabelled points) are lists of `QueuePoint`s. Obviously this isn't handy for analysis, so we use the util function `olac.utils.queue_point_list_to_df` to convert them to dataframes."
   ]
  },
  {
   "cell_type": "code",
   "execution_count": 9,
   "metadata": {},
   "outputs": [
    {
     "data": {
      "text/html": [
       "<div>\n",
       "<style scoped>\n",
       "    .dataframe tbody tr th:only-of-type {\n",
       "        vertical-align: middle;\n",
       "    }\n",
       "\n",
       "    .dataframe tbody tr th {\n",
       "        vertical-align: top;\n",
       "    }\n",
       "\n",
       "    .dataframe thead th {\n",
       "        text-align: right;\n",
       "    }\n",
       "</style>\n",
       "<table border=\"1\" class=\"dataframe\">\n",
       "  <thead>\n",
       "    <tr style=\"text-align: right;\">\n",
       "      <th></th>\n",
       "      <th>x0</th>\n",
       "      <th>x1</th>\n",
       "      <th>y_pred</th>\n",
       "      <th>prob</th>\n",
       "      <th>y_true</th>\n",
       "    </tr>\n",
       "    <tr>\n",
       "      <th>index</th>\n",
       "      <th></th>\n",
       "      <th></th>\n",
       "      <th></th>\n",
       "      <th></th>\n",
       "      <th></th>\n",
       "    </tr>\n",
       "  </thead>\n",
       "  <tbody>\n",
       "    <tr>\n",
       "      <th>0</th>\n",
       "      <td>-0.482582</td>\n",
       "      <td>-3.964656</td>\n",
       "      <td>NaN</td>\n",
       "      <td>NaN</td>\n",
       "      <td>1.0</td>\n",
       "    </tr>\n",
       "    <tr>\n",
       "      <th>1</th>\n",
       "      <td>1.019629</td>\n",
       "      <td>5.632439</td>\n",
       "      <td>NaN</td>\n",
       "      <td>NaN</td>\n",
       "      <td>0.0</td>\n",
       "    </tr>\n",
       "    <tr>\n",
       "      <th>2</th>\n",
       "      <td>-0.068332</td>\n",
       "      <td>4.233775</td>\n",
       "      <td>NaN</td>\n",
       "      <td>NaN</td>\n",
       "      <td>0.0</td>\n",
       "    </tr>\n",
       "    <tr>\n",
       "      <th>3</th>\n",
       "      <td>0.549356</td>\n",
       "      <td>-6.193886</td>\n",
       "      <td>NaN</td>\n",
       "      <td>NaN</td>\n",
       "      <td>1.0</td>\n",
       "    </tr>\n",
       "    <tr>\n",
       "      <th>4</th>\n",
       "      <td>1.255320</td>\n",
       "      <td>-5.981031</td>\n",
       "      <td>NaN</td>\n",
       "      <td>NaN</td>\n",
       "      <td>1.0</td>\n",
       "    </tr>\n",
       "  </tbody>\n",
       "</table>\n",
       "</div>"
      ],
      "text/plain": [
       "             x0        x1  y_pred  prob  y_true\n",
       "index                                          \n",
       "0     -0.482582 -3.964656     NaN   NaN     1.0\n",
       "1      1.019629  5.632439     NaN   NaN     0.0\n",
       "2     -0.068332  4.233775     NaN   NaN     0.0\n",
       "3      0.549356 -6.193886     NaN   NaN     1.0\n",
       "4      1.255320 -5.981031     NaN   NaN     1.0"
      ]
     },
     "execution_count": 9,
     "metadata": {},
     "output_type": "execute_result"
    }
   ],
   "source": [
    "df_train = olac.utils.queue_point_list_to_df(train_set)\n",
    "df_eval = olac.utils.queue_point_list_to_df(eval_set)\n",
    "\n",
    "df_eval.head()"
   ]
  },
  {
   "cell_type": "markdown",
   "metadata": {},
   "source": [
    "Note that the first few points don't have predictions, because they appeared before the model was trained. There are part of the *burn-in* period and can be ignored. The `index` is not continuous as some points were used for training, while others were sent to the eval set.\n",
    "\n",
    "Now we want to test our performance. We drop the burn-in points and calculate the accuracy:"
   ]
  },
  {
   "cell_type": "code",
   "execution_count": 10,
   "metadata": {},
   "outputs": [
    {
     "name": "stdout",
     "output_type": "stream",
     "text": [
      "Accuracy: 46.54%\n"
     ]
    }
   ],
   "source": [
    "df_eval = df_eval.dropna()\n",
    "acc = (df_eval['y_pred'] == df_eval['y_true']).mean()\n",
    "print(f'Accuracy: {acc:.2%}')"
   ]
  },
  {
   "cell_type": "markdown",
   "metadata": {},
   "source": [
    "Ouch! Maybe we can improve by adjusting the parameters of our labelling strategy. Note that the pipeline structure makes it easy to do systematic comparisons of different paremeters and strategies.\n",
    "\n",
    "Let's try lowering the threshold to 10 so we have less lag, and increasing the label probability to 50%."
   ]
  },
  {
   "cell_type": "code",
   "execution_count": 11,
   "metadata": {},
   "outputs": [
    {
     "name": "stdout",
     "output_type": "stream",
     "text": [
      "Labeller:\tThreshold met, 37 new points avaible in queue\n",
      "Labeller:\tLabelled 20 new points\n",
      "Labeller:\tThreshold met, 16 new points avaible in queue\n",
      "Predictor:\t20 new points available, training...\n",
      "Labeller:\tLabelled 10 new points\n",
      "Predictor:\t10 new points available, training...\n",
      "Labeller:\tThreshold met, 66 new points avaible in queue\n",
      "Labeller:\tLabelled 36 new points\n",
      "Labeller:\tThreshold met, 69 new points avaible in queue\n",
      "Predictor:\t36 new points available, training...Labeller:\tLabelled 35 new points\n",
      "\n",
      "Predictor:\t35 new points available, training...\n",
      "Labeller:\tThreshold met, 62 new points avaible in queue\n",
      "Labeller:\tLabelled 34 new points\n",
      "Predictor:\t34 new points available, training...\n",
      "Labeller:\tThreshold met, 11 new points avaible in queue\n",
      "Labeller:\tLabelled 54 new points\n",
      "Labeller:\tThreshold met, 45 new points avaible in queue\n",
      "Predictor:\t54 new points available, training...\n",
      "Labeller:\tLabelled 19 new points\n",
      "Predictor:\t19 new points available, training...\n",
      "Labeller:\tThreshold met, 11 new points avaible in queue\n",
      "Labeller:\tLabelled 3 new points\n",
      "Predictor:\t3 new points available, training...\n",
      "Labeller:\tThreshold met, 15 new points avaible in queue\n",
      "Labeller:\tLabelled 9 new points\n",
      "Predictor:\t9 new points available, training...\n",
      "Labeller:\tThreshold met, 138 new points avaible in queue\n",
      "Labeller:\tLabelled 71 new points\n",
      "Predictor:\t71 new points available, training...\n",
      "Labeller:\tThreshold met, 77 new points avaible in queue\n",
      "Labeller:\tLabelled 43 new points\n",
      "Predictor:\t43 new points available, training...\n",
      "Labeller:\tThreshold met, 13 new points avaible in queue\n",
      "Labeller:\tLabelled 8 new points\n",
      "Predictor:\t8 new points available, training...\n",
      "Labeller:\tThreshold met, 12 new points avaible in queue\n",
      "Labeller:\tLabelled 8 new points\n",
      "Predictor:\t8 new points available, training...\n",
      "Labeller:\tThreshold met, 36 new points avaible in queue\n",
      "Labeller:\tLabelled 60 new points\n",
      "Labeller:\tThreshold met, 38 new points avaible in queue\n",
      "Predictor:\t60 new points available, training...\n",
      "Labeller:\tLabelled 19 new points\n",
      "Predictor:\t19 new points available, training...\n",
      "Labeller:\tThreshold met, 67 new points avaible in queue\n",
      "Labeller:\tLabelled 77 new points\n"
     ]
    }
   ],
   "source": [
    "# reset the model and dataset\n",
    "model = PassiveAggressiveClassifier()  \n",
    "data = olac.data_generators.roving_balls(steps=1000)\n",
    "\n",
    "labeller = ThresholdLabeller(threshold=10, prob=0.5)\n",
    "predictor = OnlinePredictor()\n",
    "\n",
    "# create the pipeline\n",
    "pipeline = olac.pipeline.Pipeline(data, model, predictor, labeller)\n",
    "\n",
    "# run the pipeline and get the results\n",
    "train_set, eval_set = pipeline.run()\n",
    "\n",
    "df_train = olac.utils.queue_point_list_to_df(train_set)\n",
    "df_eval = olac.utils.queue_point_list_to_df(eval_set)"
   ]
  },
  {
   "cell_type": "markdown",
   "metadata": {},
   "source": [
    "We see that indeed the model was updated much more frequently, and that many more points were labelled. How about the accuracy?"
   ]
  },
  {
   "cell_type": "code",
   "execution_count": 12,
   "metadata": {},
   "outputs": [
    {
     "name": "stdout",
     "output_type": "stream",
     "text": [
      "Accuracy: 82.79%\n"
     ]
    }
   ],
   "source": [
    "df_eval = df_eval.dropna()\n",
    "acc = (df_eval['y_pred'] == df_eval['y_true']).mean()\n",
    "print(f'Accuracy: {acc:.2%}')"
   ]
  },
  {
   "cell_type": "markdown",
   "metadata": {},
   "source": [
    "Our accuracy has improved a lot! This is to expected and is a good check that things are behaving as expected. We can check how stable it was by plotting a rolling mean:"
   ]
  },
  {
   "cell_type": "code",
   "execution_count": 13,
   "metadata": {},
   "outputs": [
    {
     "data": {
      "image/png": "[encoded data removed]",
      "text/plain": [
       "<matplotlib.figure.Figure at 0x10c159780>"
      ]
     },
     "metadata": {},
     "output_type": "display_data"
    }
   ],
   "source": [
    "accs = (df_eval['y_pred'] == df_eval['y_true'])\n",
    "rolling_acc = accs.rolling(20, min_periods=1).mean()\n",
    "rolling_acc.plot();"
   ]
  },
  {
   "cell_type": "markdown",
   "metadata": {},
   "source": [
    "Even though our accuracy was much higher, the stability of the model could clearly use some work! Improving the strategies is beyond the scope of this notebook."
   ]
  },
  {
   "cell_type": "markdown",
   "metadata": {},
   "source": [
    "Of course this can go a lot further. The labeller and predictor are quite flexible for implementing various strategies. Also, retaining extra information from the run inside the labeller and predictor can be interesting for post run analysis, for example periodically getting and saving the decision function on a grid of points for making animations to visualize the run. Have fun!"
   ]
  }
 ],
 "metadata": {
  "kernelspec": {
   "display_name": "Python 3",
   "language": "python",
   "name": "python3"
  },
  "language_info": {
   "codemirror_mode": {
    "name": "ipython",
    "version": 3
   },
   "file_extension": ".py",
   "mimetype": "text/x-python",
   "name": "python",
   "nbconvert_exporter": "python",
   "pygments_lexer": "ipython3",
   "version": "3.6.5"
  }
 },
 "nbformat": 4,
 "nbformat_minor": 2
}
