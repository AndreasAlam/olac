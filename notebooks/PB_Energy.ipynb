{
 "cells": [
  {
   "cell_type": "code",
   "execution_count": 1,
   "metadata": {},
   "outputs": [],
   "source": [
    "import numpy as np"
   ]
  },
  {
   "cell_type": "code",
   "execution_count": 2,
   "metadata": {},
   "outputs": [],
   "source": [
    "def construct_meshgrid(array):\n",
    "    dimensions = np.array(array).shape[0]\n",
    "    meshgrid_parameter_str = ''\n",
    "    for j in range(dimensions):\n",
    "        meshgrid_parameter_str += 'array[{}], '.format(j)\n",
    "  \n",
    "    meshgrid = eval('np.array(np.meshgrid(' + meshgrid_parameter_str + 'indexing=\\'ij\\')).T.reshape(-1,dimensions)')\n",
    "\n",
    "    return meshgrid"
   ]
  },
  {
   "cell_type": "code",
   "execution_count": 3,
   "metadata": {},
   "outputs": [],
   "source": [
    "def energy(dXY, X_indices, Y_indices, c, cXY, cX, cY):\n",
    "    XY_combinations = construct_meshgrid(np.array([X_indices, Y_indices]))\n",
    "    X_combinations = construct_meshgrid(np.array([X_indices, X_indices]))\n",
    "    Y_combinations = construct_meshgrid(np.array([Y_indices, Y_indices]))\n",
    "    \n",
    "    return c*(cXY*np.sum(dXY[XY_combinations[:,0], XY_combinations[:,1]]) \\\n",
    "             -cX*np.sum(dXY[X_combinations[:,0], X_combinations[:,1]]) \\\n",
    "             -cY*np.sum(dXY[Y_combinations[:,0], Y_combinations[:,1]]))\n"
   ]
  },
  {
   "cell_type": "code",
   "execution_count": 4,
   "metadata": {},
   "outputs": [],
   "source": [
    "def energy_permutation_test(X, Y, B, alpha):\n",
    "    n1 = X.shape[0]\n",
    "    n2 = Y.shape[0]   \n",
    "    n = n1+n2\n",
    "    \n",
    "    X = X.reshape(n1, -1)\n",
    "    Y = Y.reshape(n2, -1)\n",
    "\n",
    "    assert(X.shape[1] == Y.shape[1])\n",
    "    n_dim = X.shape[1]\n",
    "\n",
    "    c = (n1*n2)/(n1*n2)\n",
    "    cXY = 2/(n1*n2)\n",
    "    cX = 1/(n1**2)\n",
    "    cY = 1/(n2**2)\n",
    "    \n",
    "    dXY = np.zeros((n, n))\n",
    "    for j in range(n_dim):\n",
    "        XY = np.r_[X[:, j], Y[:, j]]\n",
    "        dXY += np.subtract.outer(XY, XY)**2\n",
    "    dXY = np.sqrt(dXY)\n",
    "\n",
    "    reference_energy = energy(dXY, np.arange(n1), np.arange(n2)+n1, c, cXY, cX, cY)\n",
    "    \n",
    "    energies = np.zeros(B)\n",
    "    for i in range(B):\n",
    "        permutation = np.random.permutation(n)\n",
    "        energies[i] = energy(dXY, permutation[:n1], permutation[n1:], c, cXY, cX, cY)\n",
    "    \n",
    "    n_larger = (energies[reference_energy > energies]).size\n",
    "    p = 1-(n_larger/B)\n",
    "    \n",
    "    reject = n_larger > (1-alpha)*B\n",
    "    \n",
    "    return p, reject\n"
   ]
  },
  {
   "cell_type": "code",
   "execution_count": 5,
   "metadata": {},
   "outputs": [
    {
     "name": "stdout",
     "output_type": "stream",
     "text": [
      "(0.40280561122244485, False)\n"
     ]
    }
   ],
   "source": [
    "n1 = 20\n",
    "n2 = 20\n",
    "ndim = 1\n",
    "\n",
    "X = np.random.rand(n1, ndim)\n",
    "Y = np.random.rand(n2, ndim)\n",
    "\n",
    "B=499\n",
    "alpha = 0.05\n",
    "print(energy_permutation_test(X, Y, B, alpha))"
   ]
  },
  {
   "cell_type": "code",
   "execution_count": 6,
   "metadata": {},
   "outputs": [],
   "source": [
    "p_values = np.zeros(100)\n",
    "for i in range(100):\n",
    "    X = np.random.rand(n1, ndim)\n",
    "    Y = np.random.rand(n2, ndim)\n",
    "    p_values[i] = energy_permutation_test(X, Y, B, alpha)[0]"
   ]
  },
  {
   "cell_type": "code",
   "execution_count": 7,
   "metadata": {},
   "outputs": [
    {
     "data": {
      "text/plain": [
       "5"
      ]
     },
     "execution_count": 7,
     "metadata": {},
     "output_type": "execute_result"
    }
   ],
   "source": [
    "(p_values[p_values <= alpha]).size"
   ]
  },
  {
   "cell_type": "code",
   "execution_count": null,
   "metadata": {},
   "outputs": [],
   "source": []
  },
  {
   "cell_type": "code",
   "execution_count": null,
   "metadata": {},
   "outputs": [],
   "source": []
  }
 ],
 "metadata": {
  "kernelspec": {
   "display_name": "Python 3",
   "language": "python",
   "name": "python3"
  },
  "language_info": {
   "codemirror_mode": {
    "name": "ipython",
    "version": 3
   },
   "file_extension": ".py",
   "mimetype": "text/x-python",
   "name": "python",
   "nbconvert_exporter": "python",
   "pygments_lexer": "ipython3",
   "version": "3.6.4"
  }
 },
 "nbformat": 4,
 "nbformat_minor": 2
}
