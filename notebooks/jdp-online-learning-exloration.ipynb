{
 "cells": [
  {
   "cell_type": "markdown",
   "metadata": {},
   "source": [
    "# Online Learning Demonstration"
   ]
  },
  {
   "cell_type": "code",
   "execution_count": 1,
   "metadata": {},
   "outputs": [],
   "source": [
    "import numpy as np\n",
    "import pandas as pd\n",
    "import matplotlib.pyplot as plt\n",
    "from IPython import display\n",
    "import olac\n",
    "\n",
    "import warnings\n"
   ]
  },
  {
   "cell_type": "code",
   "execution_count": 12,
   "metadata": {},
   "outputs": [],
   "source": [
    "warnings.filterwarnings('ignore')"
   ]
  },
  {
   "cell_type": "code",
   "execution_count": 3,
   "metadata": {},
   "outputs": [],
   "source": [
    "% load_ext autoreload\n",
    "% autoreload 2\n",
    "% matplotlib inline\n"
   ]
  },
  {
   "cell_type": "code",
   "execution_count": 4,
   "metadata": {},
   "outputs": [],
   "source": [
    "plt.rcParams['figure.figsize'] = (12,5,)"
   ]
  },
  {
   "cell_type": "code",
   "execution_count": 21,
   "metadata": {},
   "outputs": [],
   "source": [
    "balls_stream = olac.data_generators.roving_balls(steps=0, period=25000, balls=2)\n",
    "balls_stream = olac.data_generators."
   ]
  },
  {
   "cell_type": "code",
   "execution_count": 45,
   "metadata": {},
   "outputs": [],
   "source": [
    "# http://scikit-learn.org/stable/auto_examples/applications/plot_out_of_core_classification.html\n",
    "\n",
    "from sklearn.linear_model import SGDClassifier\n",
    "from sklearn.linear_model import PassiveAggressiveClassifier\n",
    "from sklearn.linear_model import Perceptron\n",
    "from sklearn.naive_bayes import MultinomialNB\n",
    "from sklearn.neural_network import MLPClassifier\n",
    "\n",
    "clfs = {\n",
    "    'SGD': SGDClassifier(),\n",
    "    'Perceptron': Perceptron(),\n",
    "    'NB Multinomial': MultinomialNB(alpha=0.01),\n",
    "    'Passive-Aggressive': PassiveAggressiveClassifier(),\n",
    "}\n"
   ]
  },
  {
   "cell_type": "code",
   "execution_count": 46,
   "metadata": {},
   "outputs": [],
   "source": [
    "gridpoints = np.linspace(-10,10,250)\n",
    "grid = []\n",
    "for y in gridpoints:\n",
    "    for x in gridpoints:\n",
    "        grid.append([x,y])\n",
    "        \n",
    "grid = np.array(grid)\n"
   ]
  },
  {
   "cell_type": "code",
   "execution_count": 47,
   "metadata": {},
   "outputs": [],
   "source": [
    "from sklearn.kernel_approximation import RBFSampler\n",
    "from sklearn.preprocessing import PolynomialFeatures\n",
    "transformer = RBFSampler(n_components=100, gamma=0.075)\n",
    "# transformer = PolynomialFeatures(degree=5)\n",
    "gridt = transformer.fit_transform(grid)"
   ]
  },
  {
   "cell_type": "code",
   "execution_count": 57,
   "metadata": {},
   "outputs": [],
   "source": [
    "clf = MLPClassifier((64,32,), batch_size=1, learning_rate='adaptive', early_stopping=False, \n",
    "                    alpha=0.0003, warm_start=False)\n",
    "# clf = PassiveAggressiveClassifier()\n",
    "# clf = Perceptron()\n",
    "# clf = SGDClassifier()"
   ]
  },
  {
   "cell_type": "code",
   "execution_count": 58,
   "metadata": {},
   "outputs": [],
   "source": [
    "label_frac = 0.1"
   ]
  },
  {
   "cell_type": "code",
   "execution_count": 59,
   "metadata": {
    "scrolled": false
   },
   "outputs": [
    {
     "ename": "AttributeError",
     "evalue": "'MLPClassifier' object has no attribute 'decision_function'",
     "output_type": "error",
     "traceback": [
      "\u001b[0;31m---------------------------------------------------------------------------\u001b[0m",
      "\u001b[0;31mKeyboardInterrupt\u001b[0m                         Traceback (most recent call last)",
      "\u001b[0;32m<ipython-input-59-6ddd4499f608>\u001b[0m in \u001b[0;36m<module>\u001b[0;34m()\u001b[0m\n\u001b[1;32m     48\u001b[0m         \u001b[0;32mtry\u001b[0m\u001b[0;34m:\u001b[0m\u001b[0;34m\u001b[0m\u001b[0m\n\u001b[0;32m---> 49\u001b[0;31m             \u001b[0mZ\u001b[0m \u001b[0;34m=\u001b[0m \u001b[0mclf\u001b[0m\u001b[0;34m.\u001b[0m\u001b[0mpredict_proba\u001b[0m\u001b[0;34m(\u001b[0m\u001b[0mgridt\u001b[0m\u001b[0;34m)\u001b[0m\u001b[0;34m[\u001b[0m\u001b[0;34m:\u001b[0m\u001b[0;34m,\u001b[0m\u001b[0;36m0\u001b[0m\u001b[0;34m]\u001b[0m\u001b[0;34m.\u001b[0m\u001b[0mreshape\u001b[0m\u001b[0;34m(\u001b[0m\u001b[0mlen\u001b[0m\u001b[0;34m(\u001b[0m\u001b[0mgridpoints\u001b[0m\u001b[0;34m)\u001b[0m\u001b[0;34m,\u001b[0m \u001b[0mlen\u001b[0m\u001b[0;34m(\u001b[0m\u001b[0mgridpoints\u001b[0m\u001b[0;34m)\u001b[0m\u001b[0;34m)\u001b[0m\u001b[0;34m\u001b[0m\u001b[0m\n\u001b[0m\u001b[1;32m     50\u001b[0m             \u001b[0mline\u001b[0m \u001b[0;34m=\u001b[0m \u001b[0;36m0.5\u001b[0m\u001b[0;34m\u001b[0m\u001b[0m\n",
      "\u001b[0;32m~/jads/olac/venv/olac/lib/python3.6/site-packages/sklearn/neural_network/multilayer_perceptron.py\u001b[0m in \u001b[0;36mpredict_proba\u001b[0;34m(self, X)\u001b[0m\n\u001b[1;32m   1049\u001b[0m         \u001b[0mcheck_is_fitted\u001b[0m\u001b[0;34m(\u001b[0m\u001b[0mself\u001b[0m\u001b[0;34m,\u001b[0m \u001b[0;34m\"coefs_\"\u001b[0m\u001b[0;34m)\u001b[0m\u001b[0;34m\u001b[0m\u001b[0m\n\u001b[0;32m-> 1050\u001b[0;31m         \u001b[0my_pred\u001b[0m \u001b[0;34m=\u001b[0m \u001b[0mself\u001b[0m\u001b[0;34m.\u001b[0m\u001b[0m_predict\u001b[0m\u001b[0;34m(\u001b[0m\u001b[0mX\u001b[0m\u001b[0;34m)\u001b[0m\u001b[0;34m\u001b[0m\u001b[0m\n\u001b[0m\u001b[1;32m   1051\u001b[0m \u001b[0;34m\u001b[0m\u001b[0m\n",
      "\u001b[0;32m~/jads/olac/venv/olac/lib/python3.6/site-packages/sklearn/neural_network/multilayer_perceptron.py\u001b[0m in \u001b[0;36m_predict\u001b[0;34m(self, X)\u001b[0m\n\u001b[1;32m    677\u001b[0m         \u001b[0;31m# forward propagate\u001b[0m\u001b[0;34m\u001b[0m\u001b[0;34m\u001b[0m\u001b[0m\n\u001b[0;32m--> 678\u001b[0;31m         \u001b[0mself\u001b[0m\u001b[0;34m.\u001b[0m\u001b[0m_forward_pass\u001b[0m\u001b[0;34m(\u001b[0m\u001b[0mactivations\u001b[0m\u001b[0;34m)\u001b[0m\u001b[0;34m\u001b[0m\u001b[0m\n\u001b[0m\u001b[1;32m    679\u001b[0m         \u001b[0my_pred\u001b[0m \u001b[0;34m=\u001b[0m \u001b[0mactivations\u001b[0m\u001b[0;34m[\u001b[0m\u001b[0;34m-\u001b[0m\u001b[0;36m1\u001b[0m\u001b[0;34m]\u001b[0m\u001b[0;34m\u001b[0m\u001b[0m\n",
      "\u001b[0;32m~/jads/olac/venv/olac/lib/python3.6/site-packages/sklearn/neural_network/multilayer_perceptron.py\u001b[0m in \u001b[0;36m_forward_pass\u001b[0;34m(self, activations)\u001b[0m\n\u001b[1;32m    104\u001b[0m             activations[i + 1] = safe_sparse_dot(activations[i],\n\u001b[0;32m--> 105\u001b[0;31m                                                  self.coefs_[i])\n\u001b[0m\u001b[1;32m    106\u001b[0m             \u001b[0mactivations\u001b[0m\u001b[0;34m[\u001b[0m\u001b[0mi\u001b[0m \u001b[0;34m+\u001b[0m \u001b[0;36m1\u001b[0m\u001b[0;34m]\u001b[0m \u001b[0;34m+=\u001b[0m \u001b[0mself\u001b[0m\u001b[0;34m.\u001b[0m\u001b[0mintercepts_\u001b[0m\u001b[0;34m[\u001b[0m\u001b[0mi\u001b[0m\u001b[0;34m]\u001b[0m\u001b[0;34m\u001b[0m\u001b[0m\n",
      "\u001b[0;31mKeyboardInterrupt\u001b[0m: ",
      "\nDuring handling of the above exception, another exception occurred:\n",
      "\u001b[0;31mAttributeError\u001b[0m                            Traceback (most recent call last)",
      "\u001b[0;32m<ipython-input-59-6ddd4499f608>\u001b[0m in \u001b[0;36m<module>\u001b[0;34m()\u001b[0m\n\u001b[1;32m     50\u001b[0m             \u001b[0mline\u001b[0m \u001b[0;34m=\u001b[0m \u001b[0;36m0.5\u001b[0m\u001b[0;34m\u001b[0m\u001b[0m\n\u001b[1;32m     51\u001b[0m         \u001b[0;32mexcept\u001b[0m\u001b[0;34m:\u001b[0m\u001b[0;34m\u001b[0m\u001b[0m\n\u001b[0;32m---> 52\u001b[0;31m             \u001b[0mZ\u001b[0m \u001b[0;34m=\u001b[0m \u001b[0mclf\u001b[0m\u001b[0;34m.\u001b[0m\u001b[0mdecision_function\u001b[0m\u001b[0;34m(\u001b[0m\u001b[0mgridt\u001b[0m\u001b[0;34m)\u001b[0m\u001b[0;34m[\u001b[0m\u001b[0;34m:\u001b[0m\u001b[0;34m]\u001b[0m\u001b[0;34m.\u001b[0m\u001b[0mreshape\u001b[0m\u001b[0;34m(\u001b[0m\u001b[0mlen\u001b[0m\u001b[0;34m(\u001b[0m\u001b[0mgridpoints\u001b[0m\u001b[0;34m)\u001b[0m\u001b[0;34m,\u001b[0m \u001b[0mlen\u001b[0m\u001b[0;34m(\u001b[0m\u001b[0mgridpoints\u001b[0m\u001b[0;34m)\u001b[0m\u001b[0;34m)\u001b[0m\u001b[0;34m\u001b[0m\u001b[0m\n\u001b[0m\u001b[1;32m     53\u001b[0m             \u001b[0mline\u001b[0m \u001b[0;34m=\u001b[0m \u001b[0;36m0\u001b[0m\u001b[0;34m\u001b[0m\u001b[0m\n\u001b[1;32m     54\u001b[0m \u001b[0;34m\u001b[0m\u001b[0m\n",
      "\u001b[0;31mAttributeError\u001b[0m: 'MLPClassifier' object has no attribute 'decision_function'"
     ]
    },
    {
     "data": {
      "image/png": "[encoded data removed]",
      "text/plain": [
       "<matplotlib.figure.Figure at 0x11ca1ef60>"
      ]
     },
     "metadata": {},
     "output_type": "display_data"
    }
   ],
   "source": [
    "test = []\n",
    "train = []\n",
    "pred_test = []\n",
    "pred_train = []\n",
    "accs = []\n",
    "\n",
    "frame = 0\n",
    "\n",
    "window = 200\n",
    "\n",
    "acc_report_step = 25#int(5/label_frac)\n",
    "last_report = -1\n",
    "\n",
    "n_labels = 500000 / acc_report_step\n",
    "\n",
    "for row in balls_stream:\n",
    "    x = row[:-1].reshape(1,-1)\n",
    "    y = row[-1].reshape(-1)\n",
    "    \n",
    "    xt = transformer.transform(x)\n",
    "    \n",
    "    if np.random.uniform() < label_frac:\n",
    "        train.append(row)\n",
    "        clf.partial_fit(xt, y, classes=[0,1])\n",
    "        pred_train.append(clf.predict(xt))\n",
    "        show = True\n",
    "        \n",
    "    elif len(train)>0:  # don't predict without fitting\n",
    "        pred_test.append(clf.predict(xt))\n",
    "        test.append(row)\n",
    "        \n",
    "    if (len(train)%acc_report_step == 0) and len(train) != last_report:\n",
    "        last_report = len(train)\n",
    "        test_arr = np.array(test)\n",
    "        try:\n",
    "            X_test = test_arr[:, :-1]  \n",
    "            y_test = test_arr[:,-1].reshape(-1)\n",
    "            y_test_pred = np.array(pred_test).reshape(-1)\n",
    "        except:\n",
    "            continue\n",
    "    \n",
    "        acc = np.mean(y_test == y_test_pred)\n",
    "        accs.append(acc)\n",
    "\n",
    "        plt.figure(figsize=(15,5))\n",
    "        plt.subplot(121)\n",
    "        \n",
    "        try:\n",
    "            Z = clf.predict_proba(gridt)[:,0].reshape(len(gridpoints), len(gridpoints))\n",
    "            line = 0.5\n",
    "        except:\n",
    "            Z = clf.decision_function(gridt)[:].reshape(len(gridpoints), len(gridpoints))\n",
    "            line = 0\n",
    "        \n",
    "        plt.contourf(gridpoints, gridpoints, Z, 10)\n",
    "        \n",
    "        plt.contour(gridpoints, gridpoints, Z, [line], colors=['r'], linewidths=2)\n",
    "        plt.scatter(X_test[-window:,0], X_test[-window:,1], c=y_test[-window:])\n",
    "        plt.colorbar()\n",
    "\n",
    "        wrong = (y_test != y_test_pred)[-window:]\n",
    "        plt.scatter(X_test[-window:,0][wrong], X_test[-window:,1][wrong], c='r')\n",
    "        plt.title(f'Decision boundary ({label_frac:.0%} labelled)')\n",
    "\n",
    "        plt.subplot(122)\n",
    "        plt.plot(acc_report_step*np.arange(0,len(accs)), \n",
    "                 pd.Series(accs).rolling(acc_report_step, min_periods=0).mean())\n",
    "        plt.ylim([-0.05,1.05])\n",
    "        plt.xlabel('Training samples')\n",
    "        plt.title(f'Rolling Accuracy ({window} samples)')\n",
    "        \n",
    "        frame += 1\n",
    "        \n",
    "        plt.savefig(f'img/frame{frame}.png')\n",
    "\n",
    "        plt.show()\n",
    "\n",
    "        print(f'Overall after {len(train)} training examples: {acc:.4f}')\n",
    "        display.clear_output(wait=True)\n",
    "    \n",
    "    if len(train) == n_labels:\n",
    "        break\n",
    "    \n",
    "        \n",
    "test_arr = np.array(test)\n",
    "X_test = test_arr[:,:-1]  \n",
    "y_test = test_arr[:,-1].reshape(-1)\n",
    "y_test_pred = np.array(pred_test).reshape(-1)\n",
    "\n",
    "train_arr = np.array(train)\n",
    "X_train = train_arr[:,:-1]  \n",
    "y_train = train_arr[:,-1].reshape(-1)\n",
    "y_train_pred = np.array(pred_train).reshape(-1)\n",
    "\n",
    "\n",
    "\n",
    "    \n",
    "    "
   ]
  },
  {
   "cell_type": "code",
   "execution_count": 70,
   "metadata": {},
   "outputs": [],
   "source": [
    "import imageio"
   ]
  },
  {
   "cell_type": "code",
   "execution_count": 65,
   "metadata": {},
   "outputs": [],
   "source": [
    "import glob\n",
    "import os"
   ]
  },
  {
   "cell_type": "code",
   "execution_count": 68,
   "metadata": {},
   "outputs": [
    {
     "data": {
      "text/plain": [
       "['img/frame1.png',\n",
       " 'img/frame2.png',\n",
       " 'img/frame3.png',\n",
       " 'img/frame4.png',\n",
       " 'img/frame5.png',\n",
       " 'img/frame6.png',\n",
       " 'img/frame7.png',\n",
       " 'img/frame8.png',\n",
       " 'img/frame9.png',\n",
       " 'img/frame10.png',\n",
       " 'img/frame11.png',\n",
       " 'img/frame12.png',\n",
       " 'img/frame13.png',\n",
       " 'img/frame14.png',\n",
       " 'img/frame15.png',\n",
       " 'img/frame16.png',\n",
       " 'img/frame17.png',\n",
       " 'img/frame18.png',\n",
       " 'img/frame19.png',\n",
       " 'img/frame20.png',\n",
       " 'img/frame21.png',\n",
       " 'img/frame22.png',\n",
       " 'img/frame23.png',\n",
       " 'img/frame24.png',\n",
       " 'img/frame25.png',\n",
       " 'img/frame26.png',\n",
       " 'img/frame27.png',\n",
       " 'img/frame28.png',\n",
       " 'img/frame29.png',\n",
       " 'img/frame30.png',\n",
       " 'img/frame31.png',\n",
       " 'img/frame32.png',\n",
       " 'img/frame33.png',\n",
       " 'img/frame34.png',\n",
       " 'img/frame35.png',\n",
       " 'img/frame36.png',\n",
       " 'img/frame37.png',\n",
       " 'img/frame38.png',\n",
       " 'img/frame39.png',\n",
       " 'img/frame40.png',\n",
       " 'img/frame41.png',\n",
       " 'img/frame42.png',\n",
       " 'img/frame43.png',\n",
       " 'img/frame44.png',\n",
       " 'img/frame45.png',\n",
       " 'img/frame46.png',\n",
       " 'img/frame47.png',\n",
       " 'img/frame48.png',\n",
       " 'img/frame49.png',\n",
       " 'img/frame50.png',\n",
       " 'img/frame51.png',\n",
       " 'img/frame52.png',\n",
       " 'img/frame53.png',\n",
       " 'img/frame54.png',\n",
       " 'img/frame55.png',\n",
       " 'img/frame56.png',\n",
       " 'img/frame57.png',\n",
       " 'img/frame58.png',\n",
       " 'img/frame59.png',\n",
       " 'img/frame60.png',\n",
       " 'img/frame61.png',\n",
       " 'img/frame62.png',\n",
       " 'img/frame63.png',\n",
       " 'img/frame64.png',\n",
       " 'img/frame65.png',\n",
       " 'img/frame66.png',\n",
       " 'img/frame67.png',\n",
       " 'img/frame68.png',\n",
       " 'img/frame69.png',\n",
       " 'img/frame70.png',\n",
       " 'img/frame71.png',\n",
       " 'img/frame72.png',\n",
       " 'img/frame73.png',\n",
       " 'img/frame74.png',\n",
       " 'img/frame75.png',\n",
       " 'img/frame76.png',\n",
       " 'img/frame77.png',\n",
       " 'img/frame78.png',\n",
       " 'img/frame79.png',\n",
       " 'img/frame80.png',\n",
       " 'img/frame81.png',\n",
       " 'img/frame82.png',\n",
       " 'img/frame83.png',\n",
       " 'img/frame84.png',\n",
       " 'img/frame85.png',\n",
       " 'img/frame86.png',\n",
       " 'img/frame87.png',\n",
       " 'img/frame88.png',\n",
       " 'img/frame89.png',\n",
       " 'img/frame90.png',\n",
       " 'img/frame91.png',\n",
       " 'img/frame92.png',\n",
       " 'img/frame93.png',\n",
       " 'img/frame94.png',\n",
       " 'img/frame95.png',\n",
       " 'img/frame96.png',\n",
       " 'img/frame97.png',\n",
       " 'img/frame98.png',\n",
       " 'img/frame99.png',\n",
       " 'img/frame100.png',\n",
       " 'img/frame101.png',\n",
       " 'img/frame102.png',\n",
       " 'img/frame103.png',\n",
       " 'img/frame104.png',\n",
       " 'img/frame105.png',\n",
       " 'img/frame106.png',\n",
       " 'img/frame107.png',\n",
       " 'img/frame108.png',\n",
       " 'img/frame109.png',\n",
       " 'img/frame110.png',\n",
       " 'img/frame111.png',\n",
       " 'img/frame112.png',\n",
       " 'img/frame113.png',\n",
       " 'img/frame114.png',\n",
       " 'img/frame115.png',\n",
       " 'img/frame116.png',\n",
       " 'img/frame117.png',\n",
       " 'img/frame118.png',\n",
       " 'img/frame119.png',\n",
       " 'img/frame120.png',\n",
       " 'img/frame121.png',\n",
       " 'img/frame122.png',\n",
       " 'img/frame123.png',\n",
       " 'img/frame124.png',\n",
       " 'img/frame125.png',\n",
       " 'img/frame126.png',\n",
       " 'img/frame127.png',\n",
       " 'img/frame128.png',\n",
       " 'img/frame129.png',\n",
       " 'img/frame130.png',\n",
       " 'img/frame131.png',\n",
       " 'img/frame132.png',\n",
       " 'img/frame133.png',\n",
       " 'img/frame134.png',\n",
       " 'img/frame135.png',\n",
       " 'img/frame136.png',\n",
       " 'img/frame137.png',\n",
       " 'img/frame138.png',\n",
       " 'img/frame139.png',\n",
       " 'img/frame140.png',\n",
       " 'img/frame141.png',\n",
       " 'img/frame142.png',\n",
       " 'img/frame143.png',\n",
       " 'img/frame144.png',\n",
       " 'img/frame145.png',\n",
       " 'img/frame146.png',\n",
       " 'img/frame147.png',\n",
       " 'img/frame148.png',\n",
       " 'img/frame149.png',\n",
       " 'img/frame150.png',\n",
       " 'img/frame151.png',\n",
       " 'img/frame152.png',\n",
       " 'img/frame153.png',\n",
       " 'img/frame154.png',\n",
       " 'img/frame155.png',\n",
       " 'img/frame156.png',\n",
       " 'img/frame157.png',\n",
       " 'img/frame158.png',\n",
       " 'img/frame159.png',\n",
       " 'img/frame160.png',\n",
       " 'img/frame161.png',\n",
       " 'img/frame162.png',\n",
       " 'img/frame163.png',\n",
       " 'img/frame164.png',\n",
       " 'img/frame165.png',\n",
       " 'img/frame166.png',\n",
       " 'img/frame167.png',\n",
       " 'img/frame168.png',\n",
       " 'img/frame169.png',\n",
       " 'img/frame170.png',\n",
       " 'img/frame171.png',\n",
       " 'img/frame172.png',\n",
       " 'img/frame173.png',\n",
       " 'img/frame174.png',\n",
       " 'img/frame175.png',\n",
       " 'img/frame176.png',\n",
       " 'img/frame177.png',\n",
       " 'img/frame178.png',\n",
       " 'img/frame179.png',\n",
       " 'img/frame180.png',\n",
       " 'img/frame181.png',\n",
       " 'img/frame182.png',\n",
       " 'img/frame183.png',\n",
       " 'img/frame184.png',\n",
       " 'img/frame185.png',\n",
       " 'img/frame186.png',\n",
       " 'img/frame187.png',\n",
       " 'img/frame188.png',\n",
       " 'img/frame189.png',\n",
       " 'img/frame190.png',\n",
       " 'img/frame191.png',\n",
       " 'img/frame192.png',\n",
       " 'img/frame193.png',\n",
       " 'img/frame194.png',\n",
       " 'img/frame195.png',\n",
       " 'img/frame196.png',\n",
       " 'img/frame197.png',\n",
       " 'img/frame198.png',\n",
       " 'img/frame199.png',\n",
       " 'img/frame200.png',\n",
       " 'img/frame201.png',\n",
       " 'img/frame202.png',\n",
       " 'img/frame203.png',\n",
       " 'img/frame204.png',\n",
       " 'img/frame205.png',\n",
       " 'img/frame206.png',\n",
       " 'img/frame207.png',\n",
       " 'img/frame208.png',\n",
       " 'img/frame209.png',\n",
       " 'img/frame210.png',\n",
       " 'img/frame211.png',\n",
       " 'img/frame212.png',\n",
       " 'img/frame213.png',\n",
       " 'img/frame214.png',\n",
       " 'img/frame215.png',\n",
       " 'img/frame216.png',\n",
       " 'img/frame217.png',\n",
       " 'img/frame218.png',\n",
       " 'img/frame219.png',\n",
       " 'img/frame220.png',\n",
       " 'img/frame221.png',\n",
       " 'img/frame222.png',\n",
       " 'img/frame223.png',\n",
       " 'img/frame224.png',\n",
       " 'img/frame225.png',\n",
       " 'img/frame226.png',\n",
       " 'img/frame227.png',\n",
       " 'img/frame228.png',\n",
       " 'img/frame229.png',\n",
       " 'img/frame230.png',\n",
       " 'img/frame231.png',\n",
       " 'img/frame232.png',\n",
       " 'img/frame233.png',\n",
       " 'img/frame234.png',\n",
       " 'img/frame235.png',\n",
       " 'img/frame236.png',\n",
       " 'img/frame237.png',\n",
       " 'img/frame238.png',\n",
       " 'img/frame239.png',\n",
       " 'img/frame240.png',\n",
       " 'img/frame241.png',\n",
       " 'img/frame242.png',\n",
       " 'img/frame243.png',\n",
       " 'img/frame244.png',\n",
       " 'img/frame245.png',\n",
       " 'img/frame246.png',\n",
       " 'img/frame247.png',\n",
       " 'img/frame248.png',\n",
       " 'img/frame249.png',\n",
       " 'img/frame250.png',\n",
       " 'img/frame251.png',\n",
       " 'img/frame252.png',\n",
       " 'img/frame253.png',\n",
       " 'img/frame254.png',\n",
       " 'img/frame255.png',\n",
       " 'img/frame256.png',\n",
       " 'img/frame257.png',\n",
       " 'img/frame258.png',\n",
       " 'img/frame259.png',\n",
       " 'img/frame260.png',\n",
       " 'img/frame261.png',\n",
       " 'img/frame262.png',\n",
       " 'img/frame263.png',\n",
       " 'img/frame264.png',\n",
       " 'img/frame265.png',\n",
       " 'img/frame266.png',\n",
       " 'img/frame267.png',\n",
       " 'img/frame268.png',\n",
       " 'img/frame269.png',\n",
       " 'img/frame270.png',\n",
       " 'img/frame271.png']"
      ]
     },
     "execution_count": 68,
     "metadata": {},
     "output_type": "execute_result"
    }
   ],
   "source": [
    "images = []\n",
    "i = 1\n",
    "while os.path.isfile(f'img/frame{i}.png'):\n",
    "    images.append(f'img/frame{i}.png')\n",
    "    i += 1\n",
    "images"
   ]
  },
  {
   "cell_type": "code",
   "execution_count": 75,
   "metadata": {},
   "outputs": [],
   "source": [
    "!mkdir img/gifs"
   ]
  },
  {
   "cell_type": "code",
   "execution_count": 77,
   "metadata": {},
   "outputs": [],
   "source": [
    "imageio.mimsave('img/gifs/onlineMLP.gif', [imageio.imread(f) for f in images])"
   ]
  },
  {
   "cell_type": "markdown",
   "metadata": {},
   "source": [
    "![lol]('img/gifs/onlineMLP.gif')"
   ]
  },
  {
   "cell_type": "code",
   "execution_count": 80,
   "metadata": {},
   "outputs": [
    {
     "name": "stdout",
     "output_type": "stream",
     "text": [
      "onlineMLP.gif\r\n"
     ]
    }
   ],
   "source": [
    "!ls img/gifs"
   ]
  },
  {
   "cell_type": "code",
   "execution_count": 23,
   "metadata": {},
   "outputs": [
    {
     "data": {
      "text/plain": [
       "(62500, 2)"
      ]
     },
     "execution_count": 23,
     "metadata": {},
     "output_type": "execute_result"
    }
   ],
   "source": [
    "Z.shape"
   ]
  },
  {
   "cell_type": "code",
   "execution_count": 11,
   "metadata": {},
   "outputs": [],
   "source": [
    "s = pd.Series(accs)"
   ]
  },
  {
   "cell_type": "code",
   "execution_count": 81,
   "metadata": {},
   "outputs": [
    {
     "data": {
      "text/plain": [
       "0      0.500000\n",
       "1      0.450000\n",
       "2      0.453846\n",
       "3      0.455769\n",
       "4      0.464615\n",
       "5      0.466127\n",
       "6      0.467206\n",
       "7      0.468329\n",
       "8      0.471848\n",
       "9      0.474664\n",
       "10     0.476967\n",
       "11     0.478886\n",
       "12     0.482049\n",
       "13     0.486078\n",
       "14     0.490710\n",
       "15     0.494763\n",
       "16     0.500261\n",
       "17     0.505538\n",
       "18     0.510259\n",
       "19     0.515428\n",
       "20     0.523512\n",
       "21     0.530019\n",
       "22     0.535485\n",
       "23     0.540347\n",
       "24     0.545019\n",
       "25     0.550210\n",
       "26     0.555173\n",
       "27     0.560210\n",
       "28     0.565158\n",
       "29     0.569897\n",
       "         ...   \n",
       "75     0.703301\n",
       "76     0.705184\n",
       "77     0.707052\n",
       "78     0.708872\n",
       "79     0.710677\n",
       "80     0.712437\n",
       "81     0.714154\n",
       "82     0.715859\n",
       "83     0.717522\n",
       "84     0.719147\n",
       "85     0.720777\n",
       "86     0.722371\n",
       "87     0.723960\n",
       "88     0.725529\n",
       "89     0.727064\n",
       "90     0.728572\n",
       "91     0.730048\n",
       "92     0.731506\n",
       "93     0.732941\n",
       "94     0.734345\n",
       "95     0.735726\n",
       "96     0.737093\n",
       "97     0.738458\n",
       "98     0.739837\n",
       "99     0.741188\n",
       "100    0.744938\n",
       "101    0.749733\n",
       "102    0.753923\n",
       "103    0.758201\n",
       "104    0.762095\n",
       "Length: 105, dtype: float64"
      ]
     },
     "execution_count": 81,
     "metadata": {},
     "output_type": "execute_result"
    }
   ],
   "source": [
    "s."
   ]
  },
  {
   "cell_type": "code",
   "execution_count": 46,
   "metadata": {},
   "outputs": [
    {
     "data": {
      "text/plain": [
       "array([[-0.00778199,  0.1413258 , -0.12673852,  0.12537049,  0.13572388,\n",
       "        -0.08995507, -0.06533778,  0.12350949, -0.10749939, -0.13752274,\n",
       "         0.12275947,  0.0167736 ,  0.13211687, -0.0303612 ,  0.06613316,\n",
       "         0.10658022, -0.00830164,  0.09362645,  0.14049948,  0.12144931,\n",
       "         0.08763538,  0.07381036,  0.06017905,  0.11380782, -0.06672052,\n",
       "         0.1151827 , -0.10351163,  0.14014452,  0.13948461, -0.03899365,\n",
       "        -0.06809666,  0.00439565,  0.01478309,  0.10486163, -0.12610852,\n",
       "        -0.1152629 ,  0.08680367,  0.04365073,  0.13828848, -0.10860146,\n",
       "         0.04443453, -0.04929689, -0.13139762,  0.08185442,  0.10540077,\n",
       "        -0.11238543, -0.13551838,  0.14138757, -0.04201885,  0.1306314 ,\n",
       "        -0.13203496,  0.13907976,  0.14111207,  0.07114427, -0.13922606,\n",
       "        -0.03346018, -0.14066472, -0.09711112,  0.03458586,  0.09951431,\n",
       "         0.1163547 , -0.13300923, -0.12726572,  0.13855436, -0.13913027,\n",
       "        -0.02500593, -0.12599407,  0.1394439 ,  0.05912612,  0.12808858,\n",
       "         0.02220921,  0.0435992 ,  0.00761213, -0.13554478,  0.01129095,\n",
       "        -0.1197129 , -0.01998735, -0.11387169, -0.10971671, -0.00274696,\n",
       "        -0.03098491,  0.14106255, -0.02323491,  0.02231556,  0.07113232,\n",
       "        -0.05759635, -0.14141924, -0.05244019, -0.10511674,  0.12484292,\n",
       "         0.04377307, -0.14094716, -0.06488763, -0.04345395,  0.04432459,\n",
       "         0.05007793, -0.07839849,  0.06297914, -0.12069702,  0.00256467]])"
      ]
     },
     "execution_count": 46,
     "metadata": {},
     "output_type": "execute_result"
    }
   ],
   "source": [
    "transformer.transform(x)"
   ]
  },
  {
   "cell_type": "code",
   "execution_count": 35,
   "metadata": {},
   "outputs": [],
   "source": []
  },
  {
   "cell_type": "code",
   "execution_count": 36,
   "metadata": {},
   "outputs": [],
   "source": []
  },
  {
   "cell_type": "code",
   "execution_count": 39,
   "metadata": {},
   "outputs": [
    {
     "data": {
      "text/plain": [
       "(625, 100)"
      ]
     },
     "execution_count": 39,
     "metadata": {},
     "output_type": "execute_result"
    }
   ],
   "source": [
    "transformer.fit_transform(grid).shape"
   ]
  },
  {
   "cell_type": "code",
   "execution_count": null,
   "metadata": {},
   "outputs": [],
   "source": []
  },
  {
   "cell_type": "code",
   "execution_count": null,
   "metadata": {},
   "outputs": [],
   "source": []
  },
  {
   "cell_type": "code",
   "execution_count": 33,
   "metadata": {},
   "outputs": [
    {
     "data": {
      "text/plain": [
       "array([[-1.75235752, -5.75131239,  5.10772627],\n",
       "       [-1.37462421, -5.74551689,  4.70378196],\n",
       "       [-0.99689089, -5.73972138,  4.29983764],\n",
       "       ...,\n",
       "       [ 0.63460787,  5.43414443, -4.83364313],\n",
       "       [ 1.01234119,  5.43993994, -5.23758744],\n",
       "       [ 1.39007451,  5.44573544, -5.64153175]])"
      ]
     },
     "execution_count": 33,
     "metadata": {},
     "output_type": "execute_result"
    }
   ],
   "source": [
    "clf.decision_function(grid)"
   ]
  },
  {
   "cell_type": "code",
   "execution_count": null,
   "metadata": {},
   "outputs": [],
   "source": []
  }
 ],
 "metadata": {
  "kernelspec": {
   "display_name": "Python 3",
   "language": "python",
   "name": "python3"
  },
  "language_info": {
   "codemirror_mode": {
    "name": "ipython",
    "version": 3
   },
   "file_extension": ".py",
   "mimetype": "text/x-python",
   "name": "python",
   "nbconvert_exporter": "python",
   "pygments_lexer": "ipython3",
   "version": "3.6.5"
  }
 },
 "nbformat": 4,
 "nbformat_minor": 2
}
