{
 "cells": [
  {
   "cell_type": "markdown",
   "metadata": {},
   "source": [
    "# [PKDD99 Berka](http://lisp.vse.cz/pkdd99/berka.htm)\n",
    "\n",
    "Real anonymized Czech bank transactions, account info, and loan records released for PKDD'99 Discovery Challenge.\n",
    "\n",
    "Data from a real Czech bank. From 1999.\n",
    "\n",
    "The data about the clients and their accounts consist of following relations:\n",
    "\n",
    "* relation account (4500 objects in the file ACCOUNT.ASC) - each record describes static characteristics of an account,\n",
    "\n",
    "* relation client (5369 objects in the file CLIENT.ASC) - each record describes characteristics of a client,\n",
    "\n",
    "* relation disposition (5369 objects in the file DISP.ASC) - each record relates together a client with an account i.e. this relation describes the rights of clients to operate accounts,\n",
    "\n",
    "* relation permanent order (6471 objects in the file ORDER.ASC) - each record describes characteristics of a payment order,\n",
    "\n",
    "* elation transaction (1056320 objects in the file TRANS.ASC) - each record describes one transaction on an account,\n",
    "\n",
    "* relation loan (682 objects in the file LOAN.ASC) - each record describes a loan granted for a given account,\n",
    "\n",
    "* relation credit card (892 objects in the file CARD.ASC) - each record describes a credit card issued to an account,\n",
    "\n",
    "* relation demographic data (77 objects in the file DISTRICT.ASC) - each record describes demographic characteristics of a district.\n",
    "\n",
    "Each account has both static characteristics (e.g. date of creation, address of the branch) given in relation \"account\" and dynamic characteristics (e.g. payments debited or credited, balances) given in relations \"permanent order\" and \"transaction\". Relation \"client\" describes characteristics of persons who can manipulate with the accounts. One client can have more accounts, more clients can manipulate with single account; clients and accounts are related together in relation \"disposition\". Relations \"loan\" and \"credit card\" describe some services which the bank offers to its clients; more credit cards can be issued to an account, at most one loan can be granted for an account. Relation \"demographic data\" gives some publicly available information about the districts (e.g. the unemployment rate); additional information about the clients can be deduced from this.\n",
    "\n",
    "Source: http://lisp.vse.cz/pkdd99/berka.htm This database was prepared by Petr Berka and Marta Sochorova. For possible questions on the data and task description contact Petr Berka.\n",
    "\n",
    "Download Source (download within the comment from Filip Sivák · Czech Technical University in Prague): Download all files as a zip file here - files will be in asc format\n",
    "\n",
    "https://data.world/lpetrocelli/czech-financial-dataset-real-anonymized-transactions"
   ]
  },
  {
   "cell_type": "code",
   "execution_count": null,
   "metadata": {},
   "outputs": [],
   "source": []
  }
 ],
 "metadata": {
  "kernelspec": {
   "display_name": "olac_base",
   "language": "python",
   "name": "olac_base"
  },
  "language_info": {
   "codemirror_mode": {
    "name": "ipython",
    "version": 3
   },
   "file_extension": ".py",
   "mimetype": "text/x-python",
   "name": "python",
   "nbconvert_exporter": "python",
   "pygments_lexer": "ipython3",
   "version": "3.6.5"
  }
 },
 "nbformat": 4,
 "nbformat_minor": 2
}
